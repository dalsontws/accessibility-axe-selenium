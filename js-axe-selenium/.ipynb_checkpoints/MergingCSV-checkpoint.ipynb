{
 "cells": [
  {
   "cell_type": "code",
<<<<<<< HEAD
<<<<<<< HEAD
=======
=======
<<<<<<< HEAD
>>>>>>> master
>>>>>>> e11be0808c1ae682ce9fde22d3e38c81725bb6a1
   "execution_count": 27,
   "metadata": {},
   "outputs": [],
   "source": [
    "import pandas as pd\n",
    "import matplotlib.pyplot as plt\n",
    "import pandas as pd\n",
    "from bokeh.plotting import figure, show\n",
    "from bokeh.io import show, output_notebook, output_file\n",
    "# import panel as pn\n",
    "# pn.extension('plotly')"
<<<<<<< HEAD
=======
<<<<<<< HEAD
=======
>>>>>>> e11be0808c1ae682ce9fde22d3e38c81725bb6a1
=======
   "execution_count": 1,
   "metadata": {},
   "outputs": [],
   "source": [
    "import pandas as pd"
>>>>>>> master
<<<<<<< HEAD
=======
>>>>>>> master
>>>>>>> e11be0808c1ae682ce9fde22d3e38c81725bb6a1
   ]
  },
  {
   "cell_type": "code",
<<<<<<< HEAD
   "execution_count": 28,
=======
<<<<<<< HEAD
   "execution_count": 6,
>>>>>>> master
=======
<<<<<<< HEAD
   "execution_count": 28,
=======
   "execution_count": 6,
>>>>>>> master
>>>>>>> master
>>>>>>> e11be0808c1ae682ce9fde22d3e38c81725bb6a1
   "metadata": {},
   "outputs": [],
   "source": [
    "data = pd.read_csv('jug.csv')\n",
    "score = pd.read_csv('score.csv')"
   ]
  },
  {
   "cell_type": "code",
<<<<<<< HEAD
   "execution_count": 29,
=======
<<<<<<< HEAD
   "execution_count": 7,
>>>>>>> master
=======
<<<<<<< HEAD
   "execution_count": 29,
=======
   "execution_count": 7,
>>>>>>> master
>>>>>>> master
>>>>>>> e11be0808c1ae682ce9fde22d3e38c81725bb6a1
   "metadata": {},
   "outputs": [
    {
     "data": {
      "text/html": [
       "<div>\n",
       "<style scoped>\n",
       "    .dataframe tbody tr th:only-of-type {\n",
       "        vertical-align: middle;\n",
       "    }\n",
       "\n",
       "    .dataframe tbody tr th {\n",
       "        vertical-align: top;\n",
       "    }\n",
       "\n",
       "    .dataframe thead th {\n",
       "        text-align: right;\n",
       "    }\n",
       "</style>\n",
       "<table border=\"1\" class=\"dataframe\">\n",
       "  <thead>\n",
       "    <tr style=\"text-align: right;\">\n",
       "      <th></th>\n",
       "      <th>URL</th>\n",
       "      <th>Volation Type</th>\n",
       "      <th>Impact</th>\n",
       "      <th>Help</th>\n",
       "      <th>HTML Element</th>\n",
       "      <th>Messages</th>\n",
       "      <th>DOM Element</th>\n",
       "    </tr>\n",
       "  </thead>\n",
       "  <tbody>\n",
       "    <tr>\n",
       "      <td>0</td>\n",
<<<<<<< HEAD
<<<<<<< HEAD
=======
=======
<<<<<<< HEAD
>>>>>>> master
>>>>>>> e11be0808c1ae682ce9fde22d3e38c81725bb6a1
       "      <td>https://www.gov.sg/</td>\n",
       "      <td>color-contrast</td>\n",
       "      <td>serious</td>\n",
       "      <td>https://dequeuniversity.com/rules/axe/2.6/colo...</td>\n",
       "      <td>&lt;span&gt;Education&lt;/span&gt;</td>\n",
       "      <td>Element has insufficient color contrast of 2.0...</td>\n",
       "      <td>html &gt; body &gt; .banner-art.js-banner-art &gt; .ban...</td>\n",
       "    </tr>\n",
       "    <tr>\n",
       "      <td>1</td>\n",
       "      <td>https://www.gov.sg/</td>\n",
       "      <td>color-contrast</td>\n",
       "      <td>serious</td>\n",
       "      <td>https://dequeuniversity.com/rules/axe/2.6/colo...</td>\n",
       "      <td>&lt;span&gt;Housing&lt;/span&gt;</td>\n",
       "      <td>Element has insufficient color contrast of 3.1...</td>\n",
       "      <td>html &gt; body &gt; .banner-art.js-banner-art &gt; .ban...</td>\n",
       "    </tr>\n",
       "    <tr>\n",
       "      <td>2</td>\n",
       "      <td>https://www.gov.sg/</td>\n",
       "      <td>color-contrast</td>\n",
       "      <td>serious</td>\n",
       "      <td>https://dequeuniversity.com/rules/axe/2.6/colo...</td>\n",
       "      <td>&lt;span class=\"button is-radiusless tag tag-prim...</td>\n",
       "      <td>Element has insufficient color contrast of 2.0...</td>\n",
       "      <td>html &gt; body &gt; .section--layout &gt; .container &gt; ...</td>\n",
       "    </tr>\n",
       "    <tr>\n",
       "      <td>3</td>\n",
       "      <td>https://www.gov.sg/</td>\n",
       "      <td>color-contrast</td>\n",
       "      <td>serious</td>\n",
       "      <td>https://dequeuniversity.com/rules/axe/2.6/colo...</td>\n",
       "      <td>&lt;span class=\"button is-radiusless tag tag-prim...</td>\n",
       "      <td>Element has insufficient color contrast of 4.0...</td>\n",
       "      <td>html &gt; body &gt; .section--layout &gt; .container &gt; ...</td>\n",
       "    </tr>\n",
       "    <tr>\n",
       "      <td>4</td>\n",
       "      <td>https://www.gov.sg/</td>\n",
       "      <td>color-contrast</td>\n",
       "      <td>serious</td>\n",
       "      <td>https://dequeuniversity.com/rules/axe/2.6/colo...</td>\n",
       "      <td>&lt;a href=\"~/link.aspx?_id=A9760E2521D942CDA2F6E...</td>\n",
       "      <td>Element has insufficient color contrast of 3.7...</td>\n",
       "      <td>p &gt; a</td>\n",
       "    </tr>\n",
       "    <tr>\n",
       "      <td>...</td>\n",
       "      <td>...</td>\n",
       "      <td>...</td>\n",
       "      <td>...</td>\n",
       "      <td>...</td>\n",
       "      <td>...</td>\n",
       "      <td>...</td>\n",
       "      <td>...</td>\n",
       "    </tr>\n",
       "    <tr>\n",
       "      <td>74</td>\n",
       "      <td>https://www.isomer.gov.sg/documentation/markdo...</td>\n",
       "      <td>fake-rule</td>\n",
       "      <td>serious</td>\n",
       "      <td>There isn't a help url for this!</td>\n",
       "      <td>&lt;a class=\"third-level-nav-header \"&gt;Navbar and ...</td>\n",
       "      <td>Element has no Bok Choy</td>\n",
       "      <td>#main-content &gt; section:nth-child(3) &gt; div &gt; ....</td>\n",
       "    </tr>\n",
       "    <tr>\n",
       "      <td>75</td>\n",
       "      <td>https://www.isomer.gov.sg/documentation/markdo...</td>\n",
       "      <td>fake-rule</td>\n",
       "      <td>serious</td>\n",
       "      <td>There isn't a help url for this!</td>\n",
       "      <td>&lt;a class=\"third-level-nav-header \"&gt;Contact Us&lt;...</td>\n",
       "      <td>Element has no Bok Choy</td>\n",
       "      <td>li:nth-child(10) &gt; a.third-level-nav-header</td>\n",
       "    </tr>\n",
       "    <tr>\n",
       "      <td>76</td>\n",
       "      <td>https://www.isomer.gov.sg/documentation/markdo...</td>\n",
       "      <td>fake-rule</td>\n",
       "      <td>serious</td>\n",
       "      <td>There isn't a help url for this!</td>\n",
       "      <td>&lt;a class=\"third-level-nav-header \"&gt;Inner Page&lt;...</td>\n",
       "      <td>Element has no Bok Choy</td>\n",
       "      <td>li:nth-child(12) &gt; a.third-level-nav-header</td>\n",
       "    </tr>\n",
       "    <tr>\n",
       "      <td>77</td>\n",
       "      <td>https://www.isomer.gov.sg/documentation/markdo...</td>\n",
       "      <td>fake-rule</td>\n",
       "      <td>serious</td>\n",
       "      <td>There isn't a help url for this!</td>\n",
       "      <td>&lt;a class=\"third-level-nav-header \"&gt;Resources&lt;i...</td>\n",
       "      <td>Element has no Bok Choy</td>\n",
       "      <td>li:nth-child(14) &gt; a.third-level-nav-header</td>\n",
       "    </tr>\n",
       "    <tr>\n",
       "      <td>78</td>\n",
       "      <td>https://www.isomer.gov.sg/documentation/markdo...</td>\n",
       "      <td>fake-rule</td>\n",
       "      <td>serious</td>\n",
       "      <td>There isn't a help url for this!</td>\n",
       "      <td>&lt;a class=\"third-level-nav-header \"&gt;Website Col...</td>\n",
       "      <td>Element has no Bok Choy</td>\n",
       "      <td>li:nth-child(16) &gt; a.third-level-nav-header</td>\n",
       "    </tr>\n",
       "  </tbody>\n",
       "</table>\n",
       "<p>79 rows × 7 columns</p>\n",
       "</div>"
      ],
      "text/plain": [
       "                                                  URL   Volation Type  \\\n",
       "0                                 https://www.gov.sg/  color-contrast   \n",
       "1                                 https://www.gov.sg/  color-contrast   \n",
       "2                                 https://www.gov.sg/  color-contrast   \n",
       "3                                 https://www.gov.sg/  color-contrast   \n",
       "4                                 https://www.gov.sg/  color-contrast   \n",
       "..                                                ...             ...   \n",
       "74  https://www.isomer.gov.sg/documentation/markdo...       fake-rule   \n",
       "75  https://www.isomer.gov.sg/documentation/markdo...       fake-rule   \n",
       "76  https://www.isomer.gov.sg/documentation/markdo...       fake-rule   \n",
       "77  https://www.isomer.gov.sg/documentation/markdo...       fake-rule   \n",
       "78  https://www.isomer.gov.sg/documentation/markdo...       fake-rule   \n",
       "\n",
       "     Impact                                               Help  \\\n",
       "0   serious  https://dequeuniversity.com/rules/axe/2.6/colo...   \n",
       "1   serious  https://dequeuniversity.com/rules/axe/2.6/colo...   \n",
       "2   serious  https://dequeuniversity.com/rules/axe/2.6/colo...   \n",
       "3   serious  https://dequeuniversity.com/rules/axe/2.6/colo...   \n",
       "4   serious  https://dequeuniversity.com/rules/axe/2.6/colo...   \n",
       "..      ...                                                ...   \n",
       "74  serious                   There isn't a help url for this!   \n",
       "75  serious                   There isn't a help url for this!   \n",
       "76  serious                   There isn't a help url for this!   \n",
       "77  serious                   There isn't a help url for this!   \n",
       "78  serious                   There isn't a help url for this!   \n",
       "\n",
       "                                         HTML Element  \\\n",
       "0                              <span>Education</span>   \n",
       "1                                <span>Housing</span>   \n",
       "2   <span class=\"button is-radiusless tag tag-prim...   \n",
       "3   <span class=\"button is-radiusless tag tag-prim...   \n",
       "4   <a href=\"~/link.aspx?_id=A9760E2521D942CDA2F6E...   \n",
       "..                                                ...   \n",
       "74  <a class=\"third-level-nav-header \">Navbar and ...   \n",
       "75  <a class=\"third-level-nav-header \">Contact Us<...   \n",
       "76  <a class=\"third-level-nav-header \">Inner Page<...   \n",
       "77  <a class=\"third-level-nav-header \">Resources<i...   \n",
       "78  <a class=\"third-level-nav-header \">Website Col...   \n",
       "\n",
       "                                             Messages  \\\n",
       "0   Element has insufficient color contrast of 2.0...   \n",
       "1   Element has insufficient color contrast of 3.1...   \n",
       "2   Element has insufficient color contrast of 2.0...   \n",
       "3   Element has insufficient color contrast of 4.0...   \n",
       "4   Element has insufficient color contrast of 3.7...   \n",
       "..                                                ...   \n",
       "74                            Element has no Bok Choy   \n",
       "75                            Element has no Bok Choy   \n",
       "76                            Element has no Bok Choy   \n",
       "77                            Element has no Bok Choy   \n",
       "78                            Element has no Bok Choy   \n",
       "\n",
       "                                          DOM Element  \n",
       "0   html > body > .banner-art.js-banner-art > .ban...  \n",
       "1   html > body > .banner-art.js-banner-art > .ban...  \n",
       "2   html > body > .section--layout > .container > ...  \n",
       "3   html > body > .section--layout > .container > ...  \n",
       "4                                               p > a  \n",
       "..                                                ...  \n",
       "74  #main-content > section:nth-child(3) > div > ....  \n",
       "75        li:nth-child(10) > a.third-level-nav-header  \n",
       "76        li:nth-child(12) > a.third-level-nav-header  \n",
       "77        li:nth-child(14) > a.third-level-nav-header  \n",
       "78        li:nth-child(16) > a.third-level-nav-header  \n",
       "\n",
       "[79 rows x 7 columns]"
      ]
     },
     "execution_count": 29,
<<<<<<< HEAD
=======
<<<<<<< HEAD
=======
>>>>>>> e11be0808c1ae682ce9fde22d3e38c81725bb6a1
=======
       "      <td>https://www.cpf.gov.sg/Members#</td>\n",
       "      <td>aria-required-children</td>\n",
       "      <td>critical</td>\n",
       "      <td>https://dequeuniversity.com/rules/axe/2.6/aria...</td>\n",
       "      <td>&lt;div class=\"carousel-inner\" role=\"listbox\"&gt;</td>\n",
       "      <td>Required ARIA child role not present: option</td>\n",
       "      <td>#imageRotator &gt; [role=\"listbox\"].carousel-inner</td>\n",
       "    </tr>\n",
       "    <tr>\n",
       "      <td>1</td>\n",
       "      <td>https://www.cpf.gov.sg/Members#</td>\n",
       "      <td>button-name</td>\n",
       "      <td>critical</td>\n",
       "      <td>https://dequeuniversity.com/rules/axe/2.6/butt...</td>\n",
       "      <td>&lt;button type=\"button\" class=\"sgds-button is-wh...</td>\n",
       "      <td>Element has a value attribute and the value at...</td>\n",
       "      <td>.sgds-dropdown-trigger &gt; button</td>\n",
       "    </tr>\n",
       "    <tr>\n",
       "      <td>2</td>\n",
       "      <td>https://www.cpf.gov.sg/Members#</td>\n",
       "      <td>button-name</td>\n",
       "      <td>critical</td>\n",
       "      <td>https://dequeuniversity.com/rules/axe/2.6/butt...</td>\n",
       "      <td>&lt;button class=\"cpf-btn-share cpf-btn-accessibi...</td>\n",
       "      <td>Element has a value attribute and the value at...</td>\n",
       "      <td>#btnPrint1</td>\n",
       "    </tr>\n",
       "    <tr>\n",
       "      <td>3</td>\n",
       "      <td>https://www.cpf.gov.sg/Members#</td>\n",
       "      <td>color-contrast</td>\n",
       "      <td>serious</td>\n",
       "      <td>https://dequeuniversity.com/rules/axe/2.6/colo...</td>\n",
       "      <td>&lt;a onclick=\"ga('send'-'event'-'Member Popular ...</td>\n",
       "      <td>Element has insufficient color contrast of 4.4...</td>\n",
       "      <td>.caption &gt; a[href$=\"Statement\"]</td>\n",
       "    </tr>\n",
       "    <tr>\n",
       "      <td>4</td>\n",
       "      <td>https://www.cpf.gov.sg/Members#</td>\n",
       "      <td>color-contrast</td>\n",
       "      <td>serious</td>\n",
       "      <td>https://dequeuniversity.com/rules/axe/2.6/colo...</td>\n",
       "      <td>&lt;a onclick=\"ga('send'-'event'-'Member Popular ...</td>\n",
       "      <td>Element has insufficient color contrast of 4.4...</td>\n",
       "      <td>.caption &gt; a[href$=\"MyActivity\"]</td>\n",
       "    </tr>\n",
       "  </tbody>\n",
       "</table>\n",
       "</div>"
      ],
      "text/plain": [
       "                               URL           Volation Type    Impact  \\\n",
       "0  https://www.cpf.gov.sg/Members#  aria-required-children  critical   \n",
       "1  https://www.cpf.gov.sg/Members#             button-name  critical   \n",
       "2  https://www.cpf.gov.sg/Members#             button-name  critical   \n",
       "3  https://www.cpf.gov.sg/Members#          color-contrast   serious   \n",
       "4  https://www.cpf.gov.sg/Members#          color-contrast   serious   \n",
       "\n",
       "                                                Help  \\\n",
       "0  https://dequeuniversity.com/rules/axe/2.6/aria...   \n",
       "1  https://dequeuniversity.com/rules/axe/2.6/butt...   \n",
       "2  https://dequeuniversity.com/rules/axe/2.6/butt...   \n",
       "3  https://dequeuniversity.com/rules/axe/2.6/colo...   \n",
       "4  https://dequeuniversity.com/rules/axe/2.6/colo...   \n",
       "\n",
       "                                        HTML Element  \\\n",
       "0        <div class=\"carousel-inner\" role=\"listbox\">   \n",
       "1  <button type=\"button\" class=\"sgds-button is-wh...   \n",
       "2  <button class=\"cpf-btn-share cpf-btn-accessibi...   \n",
       "3  <a onclick=\"ga('send'-'event'-'Member Popular ...   \n",
       "4  <a onclick=\"ga('send'-'event'-'Member Popular ...   \n",
       "\n",
       "                                            Messages  \\\n",
       "0       Required ARIA child role not present: option   \n",
       "1  Element has a value attribute and the value at...   \n",
       "2  Element has a value attribute and the value at...   \n",
       "3  Element has insufficient color contrast of 4.4...   \n",
       "4  Element has insufficient color contrast of 4.4...   \n",
       "\n",
       "                                       DOM Element  \n",
       "0  #imageRotator > [role=\"listbox\"].carousel-inner  \n",
       "1                  .sgds-dropdown-trigger > button  \n",
       "2                                       #btnPrint1  \n",
       "3                  .caption > a[href$=\"Statement\"]  \n",
       "4                 .caption > a[href$=\"MyActivity\"]  "
      ]
     },
     "execution_count": 7,
>>>>>>> master
<<<<<<< HEAD
=======
>>>>>>> master
>>>>>>> e11be0808c1ae682ce9fde22d3e38c81725bb6a1
     "metadata": {},
     "output_type": "execute_result"
    }
   ],
   "source": [
<<<<<<< HEAD
    "data"
=======
<<<<<<< HEAD
    "data.head()"
>>>>>>> master
=======
<<<<<<< HEAD
    "data"
=======
    "data.head()"
>>>>>>> master
>>>>>>> master
>>>>>>> e11be0808c1ae682ce9fde22d3e38c81725bb6a1
   ]
  },
  {
   "cell_type": "code",
<<<<<<< HEAD
   "execution_count": 30,
=======
<<<<<<< HEAD
   "execution_count": 8,
>>>>>>> master
=======
<<<<<<< HEAD
   "execution_count": 30,
=======
   "execution_count": 8,
>>>>>>> master
>>>>>>> master
>>>>>>> e11be0808c1ae682ce9fde22d3e38c81725bb6a1
   "metadata": {},
   "outputs": [
    {
     "data": {
      "text/html": [
       "<div>\n",
       "<style scoped>\n",
       "    .dataframe tbody tr th:only-of-type {\n",
       "        vertical-align: middle;\n",
       "    }\n",
       "\n",
       "    .dataframe tbody tr th {\n",
       "        vertical-align: top;\n",
       "    }\n",
       "\n",
       "    .dataframe thead th {\n",
       "        text-align: right;\n",
       "    }\n",
       "</style>\n",
       "<table border=\"1\" class=\"dataframe\">\n",
       "  <thead>\n",
       "    <tr style=\"text-align: right;\">\n",
       "      <th></th>\n",
       "      <th>Volation Type</th>\n",
       "      <th>Govtech Priority</th>\n",
<<<<<<< HEAD
       "      <th>WCAG Mapping</th>\n",
=======
<<<<<<< HEAD
       "      <th>DSS Mapping</th>\n",
>>>>>>> master
=======
<<<<<<< HEAD
       "      <th>WCAG Mapping</th>\n",
=======
       "      <th>DSS Mapping</th>\n",
>>>>>>> master
>>>>>>> master
>>>>>>> e11be0808c1ae682ce9fde22d3e38c81725bb6a1
       "    </tr>\n",
       "  </thead>\n",
       "  <tbody>\n",
       "    <tr>\n",
       "      <td>0</td>\n",
       "      <td>label</td>\n",
       "      <td>20.0</td>\n",
       "      <td>1.1.1 Non-text Content (Level A)</td>\n",
       "    </tr>\n",
       "    <tr>\n",
       "      <td>1</td>\n",
       "      <td>label</td>\n",
       "      <td>20.0</td>\n",
       "      <td>3.3.2 Labels or Instructions (Level A)</td>\n",
       "    </tr>\n",
       "    <tr>\n",
       "      <td>2</td>\n",
       "      <td>link-name</td>\n",
       "      <td>10.0</td>\n",
       "      <td>2.4.4 Link Purpose (In Context) (Level A),\\n4....</td>\n",
       "    </tr>\n",
       "    <tr>\n",
       "      <td>3</td>\n",
       "      <td>href-no-hash</td>\n",
       "      <td>10.0</td>\n",
       "      <td>2.4.4 Link Purpose (In Context) (Level A)</td>\n",
       "    </tr>\n",
       "    <tr>\n",
       "      <td>4</td>\n",
       "      <td>label-content-name-mismatch</td>\n",
       "      <td>10.0</td>\n",
       "      <td>2.5.3 Label in Name (WCAG 2.1 Level A)</td>\n",
       "    </tr>\n",
       "  </tbody>\n",
       "</table>\n",
       "</div>"
      ],
      "text/plain": [
       "                 Volation Type  Govtech Priority  \\\n",
       "0                        label              20.0   \n",
       "1                        label              20.0   \n",
       "2                    link-name              10.0   \n",
       "3                 href-no-hash              10.0   \n",
       "4  label-content-name-mismatch              10.0   \n",
       "\n",
<<<<<<< HEAD
       "                                        WCAG Mapping  \n",
=======
<<<<<<< HEAD
       "                                         DSS Mapping  \n",
>>>>>>> master
=======
<<<<<<< HEAD
       "                                        WCAG Mapping  \n",
=======
       "                                         DSS Mapping  \n",
>>>>>>> master
>>>>>>> master
>>>>>>> e11be0808c1ae682ce9fde22d3e38c81725bb6a1
       "0                   1.1.1 Non-text Content (Level A)  \n",
       "1             3.3.2 Labels or Instructions (Level A)  \n",
       "2  2.4.4 Link Purpose (In Context) (Level A),\\n4....  \n",
       "3          2.4.4 Link Purpose (In Context) (Level A)  \n",
       "4             2.5.3 Label in Name (WCAG 2.1 Level A)  "
      ]
     },
<<<<<<< HEAD
     "execution_count": 30,
=======
<<<<<<< HEAD
     "execution_count": 8,
>>>>>>> master
=======
<<<<<<< HEAD
     "execution_count": 30,
=======
     "execution_count": 8,
>>>>>>> master
>>>>>>> master
>>>>>>> e11be0808c1ae682ce9fde22d3e38c81725bb6a1
     "metadata": {},
     "output_type": "execute_result"
    }
   ],
   "source": [
    "score.head()"
   ]
  },
  {
   "cell_type": "code",
<<<<<<< HEAD
   "execution_count": 31,
=======
<<<<<<< HEAD
   "execution_count": 11,
>>>>>>> master
=======
<<<<<<< HEAD
   "execution_count": 31,
=======
   "execution_count": 11,
>>>>>>> master
>>>>>>> master
>>>>>>> e11be0808c1ae682ce9fde22d3e38c81725bb6a1
   "metadata": {},
   "outputs": [],
   "source": [
    "\n",
    "result = pd.merge(data,\n",
<<<<<<< HEAD
    "                  score[['Volation Type','Govtech Priority','WCAG Mapping']],\n",
=======
<<<<<<< HEAD
    "                  score[['Volation Type','Govtech Priority','DSS Mapping']],\n",
>>>>>>> master
=======
<<<<<<< HEAD
    "                  score[['Volation Type','Govtech Priority','WCAG Mapping']],\n",
=======
    "                  score[['Volation Type','Govtech Priority','DSS Mapping']],\n",
>>>>>>> master
>>>>>>> master
>>>>>>> e11be0808c1ae682ce9fde22d3e38c81725bb6a1
    "                  on='Volation Type',\n",
    "                  how='left')"
   ]
  },
  {
   "cell_type": "code",
<<<<<<< HEAD
   "execution_count": 32,
=======
<<<<<<< HEAD
   "execution_count": 12,
>>>>>>> master
=======
<<<<<<< HEAD
   "execution_count": 32,
=======
   "execution_count": 12,
>>>>>>> master
>>>>>>> master
>>>>>>> e11be0808c1ae682ce9fde22d3e38c81725bb6a1
   "metadata": {},
   "outputs": [
    {
     "data": {
      "text/html": [
       "<div>\n",
       "<style scoped>\n",
       "    .dataframe tbody tr th:only-of-type {\n",
       "        vertical-align: middle;\n",
       "    }\n",
       "\n",
       "    .dataframe tbody tr th {\n",
       "        vertical-align: top;\n",
       "    }\n",
       "\n",
       "    .dataframe thead th {\n",
       "        text-align: right;\n",
       "    }\n",
       "</style>\n",
       "<table border=\"1\" class=\"dataframe\">\n",
       "  <thead>\n",
       "    <tr style=\"text-align: right;\">\n",
       "      <th></th>\n",
       "      <th>URL</th>\n",
       "      <th>Volation Type</th>\n",
       "      <th>Impact</th>\n",
       "      <th>Help</th>\n",
       "      <th>HTML Element</th>\n",
       "      <th>Messages</th>\n",
       "      <th>DOM Element</th>\n",
       "      <th>Govtech Priority</th>\n",
<<<<<<< HEAD
       "      <th>WCAG Mapping</th>\n",
=======
<<<<<<< HEAD
       "      <th>DSS Mapping</th>\n",
>>>>>>> master
=======
<<<<<<< HEAD
       "      <th>WCAG Mapping</th>\n",
=======
       "      <th>DSS Mapping</th>\n",
>>>>>>> master
>>>>>>> master
>>>>>>> e11be0808c1ae682ce9fde22d3e38c81725bb6a1
       "    </tr>\n",
       "  </thead>\n",
       "  <tbody>\n",
       "    <tr>\n",
       "      <td>0</td>\n",
<<<<<<< HEAD
<<<<<<< HEAD
=======
=======
<<<<<<< HEAD
>>>>>>> master
>>>>>>> e11be0808c1ae682ce9fde22d3e38c81725bb6a1
       "      <td>https://www.gov.sg/</td>\n",
       "      <td>color-contrast</td>\n",
       "      <td>serious</td>\n",
       "      <td>https://dequeuniversity.com/rules/axe/2.6/colo...</td>\n",
       "      <td>&lt;span&gt;Education&lt;/span&gt;</td>\n",
       "      <td>Element has insufficient color contrast of 2.0...</td>\n",
       "      <td>html &gt; body &gt; .banner-art.js-banner-art &gt; .ban...</td>\n",
       "      <td>6.0</td>\n",
       "      <td>1.4.3 Contrast (Minimum) (Level AA)</td>\n",
       "    </tr>\n",
       "    <tr>\n",
       "      <td>1</td>\n",
       "      <td>https://www.gov.sg/</td>\n",
       "      <td>color-contrast</td>\n",
       "      <td>serious</td>\n",
       "      <td>https://dequeuniversity.com/rules/axe/2.6/colo...</td>\n",
       "      <td>&lt;span&gt;Housing&lt;/span&gt;</td>\n",
       "      <td>Element has insufficient color contrast of 3.1...</td>\n",
       "      <td>html &gt; body &gt; .banner-art.js-banner-art &gt; .ban...</td>\n",
       "      <td>6.0</td>\n",
       "      <td>1.4.3 Contrast (Minimum) (Level AA)</td>\n",
       "    </tr>\n",
       "    <tr>\n",
       "      <td>2</td>\n",
       "      <td>https://www.gov.sg/</td>\n",
       "      <td>color-contrast</td>\n",
       "      <td>serious</td>\n",
       "      <td>https://dequeuniversity.com/rules/axe/2.6/colo...</td>\n",
       "      <td>&lt;span class=\"button is-radiusless tag tag-prim...</td>\n",
       "      <td>Element has insufficient color contrast of 2.0...</td>\n",
       "      <td>html &gt; body &gt; .section--layout &gt; .container &gt; ...</td>\n",
       "      <td>6.0</td>\n",
       "      <td>1.4.3 Contrast (Minimum) (Level AA)</td>\n",
       "    </tr>\n",
       "    <tr>\n",
       "      <td>3</td>\n",
       "      <td>https://www.gov.sg/</td>\n",
       "      <td>color-contrast</td>\n",
       "      <td>serious</td>\n",
       "      <td>https://dequeuniversity.com/rules/axe/2.6/colo...</td>\n",
       "      <td>&lt;span class=\"button is-radiusless tag tag-prim...</td>\n",
       "      <td>Element has insufficient color contrast of 4.0...</td>\n",
       "      <td>html &gt; body &gt; .section--layout &gt; .container &gt; ...</td>\n",
<<<<<<< HEAD
=======
<<<<<<< HEAD
=======
>>>>>>> e11be0808c1ae682ce9fde22d3e38c81725bb6a1
=======
       "      <td>https://www.cpf.gov.sg/Members#</td>\n",
       "      <td>aria-required-children</td>\n",
       "      <td>critical</td>\n",
       "      <td>https://dequeuniversity.com/rules/axe/2.6/aria...</td>\n",
       "      <td>&lt;div class=\"carousel-inner\" role=\"listbox\"&gt;</td>\n",
       "      <td>Required ARIA child role not present: option</td>\n",
       "      <td>#imageRotator &gt; [role=\"listbox\"].carousel-inner</td>\n",
       "      <td>NaN</td>\n",
       "      <td>NaN</td>\n",
       "    </tr>\n",
       "    <tr>\n",
       "      <td>1</td>\n",
       "      <td>https://www.cpf.gov.sg/Members#</td>\n",
       "      <td>button-name</td>\n",
       "      <td>critical</td>\n",
       "      <td>https://dequeuniversity.com/rules/axe/2.6/butt...</td>\n",
       "      <td>&lt;button type=\"button\" class=\"sgds-button is-wh...</td>\n",
       "      <td>Element has a value attribute and the value at...</td>\n",
       "      <td>.sgds-dropdown-trigger &gt; button</td>\n",
       "      <td>20.0</td>\n",
       "      <td>4.1.2 Name, Role, Value (Level A)</td>\n",
       "    </tr>\n",
       "    <tr>\n",
       "      <td>2</td>\n",
       "      <td>https://www.cpf.gov.sg/Members#</td>\n",
       "      <td>button-name</td>\n",
       "      <td>critical</td>\n",
       "      <td>https://dequeuniversity.com/rules/axe/2.6/butt...</td>\n",
       "      <td>&lt;button class=\"cpf-btn-share cpf-btn-accessibi...</td>\n",
       "      <td>Element has a value attribute and the value at...</td>\n",
       "      <td>#btnPrint1</td>\n",
       "      <td>20.0</td>\n",
       "      <td>4.1.2 Name, Role, Value (Level A)</td>\n",
       "    </tr>\n",
       "    <tr>\n",
       "      <td>3</td>\n",
       "      <td>https://www.cpf.gov.sg/Members#</td>\n",
       "      <td>color-contrast</td>\n",
       "      <td>serious</td>\n",
       "      <td>https://dequeuniversity.com/rules/axe/2.6/colo...</td>\n",
       "      <td>&lt;a onclick=\"ga('send'-'event'-'Member Popular ...</td>\n",
       "      <td>Element has insufficient color contrast of 4.4...</td>\n",
       "      <td>.caption &gt; a[href$=\"Statement\"]</td>\n",
>>>>>>> master
<<<<<<< HEAD
=======
>>>>>>> master
>>>>>>> e11be0808c1ae682ce9fde22d3e38c81725bb6a1
       "      <td>6.0</td>\n",
       "      <td>1.4.3 Contrast (Minimum) (Level AA)</td>\n",
       "    </tr>\n",
       "    <tr>\n",
       "      <td>4</td>\n",
<<<<<<< HEAD
<<<<<<< HEAD
=======
=======
<<<<<<< HEAD
>>>>>>> master
>>>>>>> e11be0808c1ae682ce9fde22d3e38c81725bb6a1
       "      <td>https://www.gov.sg/</td>\n",
       "      <td>color-contrast</td>\n",
       "      <td>serious</td>\n",
       "      <td>https://dequeuniversity.com/rules/axe/2.6/colo...</td>\n",
       "      <td>&lt;a href=\"~/link.aspx?_id=A9760E2521D942CDA2F6E...</td>\n",
       "      <td>Element has insufficient color contrast of 3.7...</td>\n",
       "      <td>p &gt; a</td>\n",
<<<<<<< HEAD
=======
<<<<<<< HEAD
=======
>>>>>>> e11be0808c1ae682ce9fde22d3e38c81725bb6a1
=======
       "      <td>https://www.cpf.gov.sg/Members#</td>\n",
       "      <td>color-contrast</td>\n",
       "      <td>serious</td>\n",
       "      <td>https://dequeuniversity.com/rules/axe/2.6/colo...</td>\n",
       "      <td>&lt;a onclick=\"ga('send'-'event'-'Member Popular ...</td>\n",
       "      <td>Element has insufficient color contrast of 4.4...</td>\n",
       "      <td>.caption &gt; a[href$=\"MyActivity\"]</td>\n",
>>>>>>> master
<<<<<<< HEAD
=======
>>>>>>> master
>>>>>>> e11be0808c1ae682ce9fde22d3e38c81725bb6a1
       "      <td>6.0</td>\n",
       "      <td>1.4.3 Contrast (Minimum) (Level AA)</td>\n",
       "    </tr>\n",
       "  </tbody>\n",
       "</table>\n",
       "</div>"
      ],
      "text/plain": [
<<<<<<< HEAD
<<<<<<< HEAD
=======
=======
<<<<<<< HEAD
>>>>>>> master
>>>>>>> e11be0808c1ae682ce9fde22d3e38c81725bb6a1
       "                   URL   Volation Type   Impact  \\\n",
       "0  https://www.gov.sg/  color-contrast  serious   \n",
       "1  https://www.gov.sg/  color-contrast  serious   \n",
       "2  https://www.gov.sg/  color-contrast  serious   \n",
       "3  https://www.gov.sg/  color-contrast  serious   \n",
       "4  https://www.gov.sg/  color-contrast  serious   \n",
       "\n",
       "                                                Help  \\\n",
       "0  https://dequeuniversity.com/rules/axe/2.6/colo...   \n",
       "1  https://dequeuniversity.com/rules/axe/2.6/colo...   \n",
       "2  https://dequeuniversity.com/rules/axe/2.6/colo...   \n",
<<<<<<< HEAD
=======
<<<<<<< HEAD
=======
>>>>>>> e11be0808c1ae682ce9fde22d3e38c81725bb6a1
=======
       "                               URL           Volation Type    Impact  \\\n",
       "0  https://www.cpf.gov.sg/Members#  aria-required-children  critical   \n",
       "1  https://www.cpf.gov.sg/Members#             button-name  critical   \n",
       "2  https://www.cpf.gov.sg/Members#             button-name  critical   \n",
       "3  https://www.cpf.gov.sg/Members#          color-contrast   serious   \n",
       "4  https://www.cpf.gov.sg/Members#          color-contrast   serious   \n",
       "\n",
       "                                                Help  \\\n",
       "0  https://dequeuniversity.com/rules/axe/2.6/aria...   \n",
       "1  https://dequeuniversity.com/rules/axe/2.6/butt...   \n",
       "2  https://dequeuniversity.com/rules/axe/2.6/butt...   \n",
>>>>>>> master
<<<<<<< HEAD
=======
>>>>>>> master
>>>>>>> e11be0808c1ae682ce9fde22d3e38c81725bb6a1
       "3  https://dequeuniversity.com/rules/axe/2.6/colo...   \n",
       "4  https://dequeuniversity.com/rules/axe/2.6/colo...   \n",
       "\n",
       "                                        HTML Element  \\\n",
<<<<<<< HEAD
<<<<<<< HEAD
=======
=======
<<<<<<< HEAD
>>>>>>> master
>>>>>>> e11be0808c1ae682ce9fde22d3e38c81725bb6a1
       "0                             <span>Education</span>   \n",
       "1                               <span>Housing</span>   \n",
       "2  <span class=\"button is-radiusless tag tag-prim...   \n",
       "3  <span class=\"button is-radiusless tag tag-prim...   \n",
       "4  <a href=\"~/link.aspx?_id=A9760E2521D942CDA2F6E...   \n",
       "\n",
       "                                            Messages  \\\n",
       "0  Element has insufficient color contrast of 2.0...   \n",
       "1  Element has insufficient color contrast of 3.1...   \n",
       "2  Element has insufficient color contrast of 2.0...   \n",
       "3  Element has insufficient color contrast of 4.0...   \n",
       "4  Element has insufficient color contrast of 3.7...   \n",
       "\n",
       "                                         DOM Element  Govtech Priority  \\\n",
       "0  html > body > .banner-art.js-banner-art > .ban...               6.0   \n",
       "1  html > body > .banner-art.js-banner-art > .ban...               6.0   \n",
       "2  html > body > .section--layout > .container > ...               6.0   \n",
       "3  html > body > .section--layout > .container > ...               6.0   \n",
       "4                                              p > a               6.0   \n",
       "\n",
       "                          WCAG Mapping  \n",
       "0  1.4.3 Contrast (Minimum) (Level AA)  \n",
       "1  1.4.3 Contrast (Minimum) (Level AA)  \n",
       "2  1.4.3 Contrast (Minimum) (Level AA)  \n",
<<<<<<< HEAD
=======
<<<<<<< HEAD
=======
>>>>>>> e11be0808c1ae682ce9fde22d3e38c81725bb6a1
=======
       "0        <div class=\"carousel-inner\" role=\"listbox\">   \n",
       "1  <button type=\"button\" class=\"sgds-button is-wh...   \n",
       "2  <button class=\"cpf-btn-share cpf-btn-accessibi...   \n",
       "3  <a onclick=\"ga('send'-'event'-'Member Popular ...   \n",
       "4  <a onclick=\"ga('send'-'event'-'Member Popular ...   \n",
       "\n",
       "                                            Messages  \\\n",
       "0       Required ARIA child role not present: option   \n",
       "1  Element has a value attribute and the value at...   \n",
       "2  Element has a value attribute and the value at...   \n",
       "3  Element has insufficient color contrast of 4.4...   \n",
       "4  Element has insufficient color contrast of 4.4...   \n",
       "\n",
       "                                       DOM Element  Govtech Priority  \\\n",
       "0  #imageRotator > [role=\"listbox\"].carousel-inner               NaN   \n",
       "1                  .sgds-dropdown-trigger > button              20.0   \n",
       "2                                       #btnPrint1              20.0   \n",
       "3                  .caption > a[href$=\"Statement\"]               6.0   \n",
       "4                 .caption > a[href$=\"MyActivity\"]               6.0   \n",
       "\n",
       "                           DSS Mapping  \n",
       "0                                  NaN  \n",
       "1    4.1.2 Name, Role, Value (Level A)  \n",
       "2    4.1.2 Name, Role, Value (Level A)  \n",
>>>>>>> master
<<<<<<< HEAD
=======
>>>>>>> master
>>>>>>> e11be0808c1ae682ce9fde22d3e38c81725bb6a1
       "3  1.4.3 Contrast (Minimum) (Level AA)  \n",
       "4  1.4.3 Contrast (Minimum) (Level AA)  "
      ]
     },
<<<<<<< HEAD
     "execution_count": 32,
=======
<<<<<<< HEAD
     "execution_count": 12,
>>>>>>> master
=======
<<<<<<< HEAD
     "execution_count": 32,
=======
     "execution_count": 12,
>>>>>>> master
>>>>>>> master
>>>>>>> e11be0808c1ae682ce9fde22d3e38c81725bb6a1
     "metadata": {},
     "output_type": "execute_result"
    }
   ],
   "source": [
<<<<<<< HEAD
    "df = pd.DataFrame(result)\n",
    "df.head()"
=======
<<<<<<< HEAD
    "result.head()"
>>>>>>> master
=======
<<<<<<< HEAD
    "df = pd.DataFrame(result)\n",
    "df.head()"
=======
    "result.head()"
>>>>>>> master
>>>>>>> master
>>>>>>> e11be0808c1ae682ce9fde22d3e38c81725bb6a1
   ]
  },
  {
   "cell_type": "code",
<<<<<<< HEAD
<<<<<<< HEAD
=======
=======
<<<<<<< HEAD
>>>>>>> master
>>>>>>> e11be0808c1ae682ce9fde22d3e38c81725bb6a1
   "execution_count": 33,
   "metadata": {},
   "outputs": [],
   "source": [
    "df.to_csv('new.csv')"
   ]
  },
  {
   "cell_type": "code",
   "execution_count": 34,
   "metadata": {},
   "outputs": [],
   "source": [
    "re = df.groupby('URL')[['Impact']].count()"
   ]
  },
  {
   "cell_type": "code",
   "execution_count": 35,
<<<<<<< HEAD
=======
   "execution_count": 13,
>>>>>>> master
=======
<<<<<<< HEAD
=======
=======
   "execution_count": 13,
>>>>>>> master
>>>>>>> master
>>>>>>> e11be0808c1ae682ce9fde22d3e38c81725bb6a1
   "metadata": {},
   "outputs": [
    {
     "data": {
<<<<<<< HEAD
<<<<<<< HEAD
=======
=======
<<<<<<< HEAD
>>>>>>> master
>>>>>>> e11be0808c1ae682ce9fde22d3e38c81725bb6a1
      "text/html": [
       "<div>\n",
       "<style scoped>\n",
       "    .dataframe tbody tr th:only-of-type {\n",
       "        vertical-align: middle;\n",
       "    }\n",
       "\n",
       "    .dataframe tbody tr th {\n",
       "        vertical-align: top;\n",
       "    }\n",
       "\n",
       "    .dataframe thead th {\n",
       "        text-align: right;\n",
       "    }\n",
       "</style>\n",
       "<table border=\"1\" class=\"dataframe\">\n",
       "  <thead>\n",
       "    <tr style=\"text-align: right;\">\n",
       "      <th></th>\n",
       "      <th>Impact</th>\n",
       "    </tr>\n",
       "    <tr>\n",
       "      <th>URL</th>\n",
       "      <th></th>\n",
       "    </tr>\n",
       "  </thead>\n",
       "  <tbody>\n",
       "    <tr>\n",
       "      <td>URL</td>\n",
       "      <td>3</td>\n",
       "    </tr>\n",
       "    <tr>\n",
       "      <td>https://www.gov.sg/</td>\n",
       "      <td>25</td>\n",
       "    </tr>\n",
       "    <tr>\n",
       "      <td>https://www.isomer.gov.sg/</td>\n",
       "      <td>9</td>\n",
       "    </tr>\n",
       "    <tr>\n",
       "      <td>https://www.isomer.gov.sg/documentation/markdown/markdown-usage/</td>\n",
       "      <td>24</td>\n",
       "    </tr>\n",
       "    <tr>\n",
       "      <td>https://www.isomer.gov.sg/documentation/training-materials/</td>\n",
       "      <td>18</td>\n",
       "    </tr>\n",
       "  </tbody>\n",
       "</table>\n",
       "</div>"
      ],
      "text/plain": [
       "                                                    Impact\n",
       "URL                                                       \n",
       "URL                                                      3\n",
       "https://www.gov.sg/                                     25\n",
       "https://www.isomer.gov.sg/                               9\n",
       "https://www.isomer.gov.sg/documentation/markdow...      24\n",
       "https://www.isomer.gov.sg/documentation/trainin...      18"
      ]
     },
     "execution_count": 35,
<<<<<<< HEAD
=======
<<<<<<< HEAD
=======
>>>>>>> e11be0808c1ae682ce9fde22d3e38c81725bb6a1
=======
      "text/plain": [
       "',URL,Volation Type,Impact,Help,HTML Element,Messages,DOM Element,Govtech Priority,DSS Mapping\\n0,https://www.cpf.gov.sg/Members#,aria-required-children,critical,https://dequeuniversity.com/rules/axe/2.6/aria-required-children?application=webdriverjs,\"<div class=\"\"carousel-inner\"\" role=\"\"listbox\"\">\",Required ARIA child role not present: option,\"#imageRotator > [role=\"\"listbox\"\"].carousel-inner\",,\\n1,https://www.cpf.gov.sg/Members#,button-name,critical,https://dequeuniversity.com/rules/axe/2.6/button-name?application=webdriverjs,\"<button type=\"\"button\"\" class=\"\"sgds-button is-white is-medium\"\" aria-haspopup=\"\"true\"\" aria-controls=\"\"sgds-dropdown-menu2\"\" style=\"\"padding-left: 7px;padding-right: 4px;\"\">\",\"Element has a value attribute and the value attribute is empty--Element has no value attribute or the value attribute is empty--Element does not have inner text that is visible to screen readers--aria-label attribute does not exist or is empty--aria-labelledby attribute does not exist- references elements that do not exist or references elements that are empty or not visible--Element\\'s default semantics were not overridden with role=\"\"presentation\"\"--Element\\'s default semantics were not overridden with role=\"\"none\"\"\",.sgds-dropdown-trigger > button,20.0,\"4.1.2 Name, Role, Value (Level A)\"\\n2,https://www.cpf.gov.sg/Members#,button-name,critical,https://dequeuniversity.com/rules/axe/2.6/button-name?application=webdriverjs,\"<button class=\"\"cpf-btn-share cpf-btn-accessibility-large-size\"\" id=\"\"btnPrint1\"\" data-utility=\"\"printPage\"\" onclick=\"\"window.print(); return false;\"\" style=\"\"margin-left: 5px; background: #464642;\"\">                            <span class=\"\"glyphicon glyphicon-print\"\"></span>                        </button>\",\"Element has a value attribute and the value attribute is empty--Element has no value attribute or the value attribute is empty--Element does not have inner text that is visible to screen readers--aria-label attribute does not exist or is empty--aria-labelledby attribute does not exist- references elements that do not exist or references elements that are empty or not visible--Element\\'s default semantics were not overridden with role=\"\"presentation\"\"--Element\\'s default semantics were not overridden with role=\"\"none\"\"\",#btnPrint1,20.0,\"4.1.2 Name, Role, Value (Level A)\"\\n3,https://www.cpf.gov.sg/Members#,color-contrast,serious,https://dequeuniversity.com/rules/axe/2.6/color-contrast?application=webdriverjs,\"<a onclick=\"\"ga(\\'send\\'-\\'event\\'-\\'Member Popular Services\\'-\\'Popular Services Click\\'-\\'View My Statement\\')\"\" href=\"\"https://www.cpf.gov.sg/eSvc/Web/Services/Statement/Statement\"\" target=\"\"_self\"\">View My Statement</a>\",Element has insufficient color contrast of 4.4 (foreground color: #4f8208- background color: #f9f9f9- font size: 12.0pt- font weight: bold). Expected contrast ratio of 4.5:1,\".caption > a[href$=\"\"Statement\"\"]\",6.0,1.4.3 Contrast (Minimum) (Level AA)\\n4,https://www.cpf.gov.sg/Members#,color-contrast,serious,https://dequeuniversity.com/rules/axe/2.6/color-contrast?application=webdriverjs,\"<a onclick=\"\"ga(\\'send\\'-\\'event\\'-\\'Member Popular Services\\'-\\'Popular Services Click\\'-\\'View My Activities\\')\"\" href=\"\"https://www.cpf.gov.sg/eSvc/Web/Services/MyActivity/MyActivity\"\" target=\"\"_self\"\">View My Activities</a>\",Element has insufficient color contrast of 4.4 (foreground color: #4f8208- background color: #f9f9f9- font size: 12.0pt- font weight: bold). Expected contrast ratio of 4.5:1,\".caption > a[href$=\"\"MyActivity\"\"]\",6.0,1.4.3 Contrast (Minimum) (Level AA)\\n5,https://www.cpf.gov.sg/Members#,color-contrast,serious,https://dequeuniversity.com/rules/axe/2.6/color-contrast?application=webdriverjs,\"<a onclick=\"\"ga(\\'send\\'-\\'event\\'-\\'Member Popular Services\\'-\\'Popular Services Click\\'-\\'Make Voluntary Contributions\\')\"\" href=\"\"https://www.cpf.gov.sg/eSvc/Web/Miscellaneous/Cashier/ECashierHomepage\"\" target=\"\"_self\"\">Make Voluntary Contributions</a>\",Element has insufficient color contrast of 4.4 (foreground color: #4f8208- background color: #f9f9f9- font size: 12.0pt- font weight: bold). Expected contrast ratio of 4.5:1,\"#card_container > .glider-contain.glider-wrap > .glider.draggable > .glider-track > .left-7 > .caption > a[href$=\"\"ECashierHomepage\"\"]\",6.0,1.4.3 Contrast (Minimum) (Level AA)\\n6,https://www.cpf.gov.sg/Members#,color-contrast,serious,https://dequeuniversity.com/rules/axe/2.6/color-contrast?application=webdriverjs,\"<a onclick=\"\"ga(\\'send\\'-\\'event\\'-\\'Member Popular Services\\'-\\'Popular Services Click\\'-\\'Make Retirement Top-Ups\\')\"\" href=\"\"https://www.cpf.gov.sg/eSvc/Web/Miscellaneous/Cashier/ECashierHomepage\"\" target=\"\"_self\"\">Make Retirement Top-Ups</a>\",Element has insufficient color contrast of 4.4 (foreground color: #4f8208- background color: #f9f9f9- font size: 12.0pt- font weight: bold). Expected contrast ratio of 4.5:1,\"#card_container > .glider-contain.glider-wrap > .glider.draggable > .glider-track > .left-6 > .caption > a[href$=\"\"ECashierHomepage\"\"]\",6.0,1.4.3 Contrast (Minimum) (Level AA)\\n7,https://www.cpf.gov.sg/Members#,color-contrast,serious,https://dequeuniversity.com/rules/axe/2.6/color-contrast?application=webdriverjs,\"<a onclick=\"\"ga(\\'send\\'-\\'event\\'-\\'Member Popular Services\\'-\\'Popular Services Click\\'-\\'Calculate CPF Contributions\\')\"\" href=\"\"https://www.cpf.gov.sg/eSvc/Web/Miscellaneous/ContributionCalculator/Index?isFirstAndSecondYear=0&amp;isMember=1\"\" target=\"\"_self\"\">Calculate CPF Contributions</a>\",Element has insufficient color contrast of 4.4 (foreground color: #4f8208- background color: #f9f9f9- font size: 12.0pt- font weight: bold). Expected contrast ratio of 4.5:1,#card_container > .glider-contain.glider-wrap > .glider.draggable > .glider-track > .left-5 > .caption > a,6.0,1.4.3 Contrast (Minimum) (Level AA)\\n8,https://www.cpf.gov.sg/Members#,color-contrast,serious,https://dequeuniversity.com/rules/axe/2.6/color-contrast?application=webdriverjs,\"<a onclick=\"\"ga(\\'send\\'-\\'event\\'-\\'Member Popular Services\\'-\\'Popular Services Click\\'-\\'Calculate CPF LIFE Payouts\\')\"\" href=\"\"https://www.cpf.gov.sg/eSvc/Web/Schemes/LifeEstimator/LifeEstimator\"\" target=\"\"_self\"\">Calculate CPF LIFE Payouts</a>\",Element has insufficient color contrast of 4.4 (foreground color: #4f8208- background color: #f9f9f9- font size: 12.0pt- font weight: bold). Expected contrast ratio of 4.5:1,\".caption > a[href$=\"\"LifeEstimator\"\"]\",6.0,1.4.3 Contrast (Minimum) (Level AA)\\n9,https://www.cpf.gov.sg/Members#,duplicate-id,moderate,https://dequeuniversity.com/rules/axe/2.6/duplicate-id?application=webdriverjs,\"<div class=\"\"ms-srch-dataProvider\"\" id=\"\"DataProvider\"\" name=\"\"Control\"\"></div>\",Document has multiple elements with the same id attribute: DataProvider,#ctl00_ctl87_g_32e23222_9cdf_4318_9dd2_33760a7e30d8_ctl00_csr > div.ms-srch-dataProvider,1.0,4.1.1 Parsing (Level A)\\n10,https://www.cpf.gov.sg/Members#,image-alt,critical,https://dequeuniversity.com/rules/axe/2.6/image-alt?application=webdriverjs,\"<img border=\"\"0\"\" src=\"\"/Assets/common/PublishingImages/Cards/Quicklinks_Statements_icon.png\"\">\",\"Element does not have an alt attribute--aria-label attribute does not exist or is empty--aria-labelledby attribute does not exist- references elements that do not exist or references elements that are empty or not visible--Element has no title attribute or the title attribute is empty--Element\\'s default semantics were not overridden with role=\"\"presentation\"\"--Element\\'s default semantics were not overridden with role=\"\"none\"\"\",.left-9 > img,8.0,1.1.1 Non-text Content (Level A)\\n11,https://www.cpf.gov.sg/Members#,image-alt,critical,https://dequeuniversity.com/rules/axe/2.6/image-alt?application=webdriverjs,\"<img border=\"\"0\"\" src=\"\"/Assets/common/PublishingImages/Cards/Quicklinks_Statements_icon.png\"\">\",\"Element does not have an alt attribute--aria-label attribute does not exist or is empty--aria-labelledby attribute does not exist- references elements that do not exist or references elements that are empty or not visible--Element has no title attribute or the title attribute is empty--Element\\'s default semantics were not overridden with role=\"\"presentation\"\"--Element\\'s default semantics were not overridden with role=\"\"none\"\"\",.left-8 > img,8.0,1.1.1 Non-text Content (Level A)\\n12,https://www.cpf.gov.sg/Members#,image-alt,critical,https://dequeuniversity.com/rules/axe/2.6/image-alt?application=webdriverjs,\"<img border=\"\"0\"\" src=\"\"/Assets/common/PublishingImages/Cards/Quicklinks_Forms_icon.png\"\">\",\"Element does not have an alt attribute--aria-label attribute does not exist or is empty--aria-labelledby attribute does not exist- references elements that do not exist or references elements that are empty or not visible--Element has no title attribute or the title attribute is empty--Element\\'s default semantics were not overridden with role=\"\"presentation\"\"--Element\\'s default semantics were not overridden with role=\"\"none\"\"\",\".left-7 > img[src$=\"\"Quicklinks_Forms_icon.png\"\"]\",8.0,1.1.1 Non-text Content (Level A)\\n13,https://www.cpf.gov.sg/Members#,image-alt,critical,https://dequeuniversity.com/rules/axe/2.6/image-alt?application=webdriverjs,\"<img border=\"\"0\"\" src=\"\"/Assets/common/PublishingImages/Cards/Quicklinks_Forms_icon.png\"\">\",\"Element does not have an alt attribute--aria-label attribute does not exist or is empty--aria-labelledby attribute does not exist- references elements that do not exist or references elements that are empty or not visible--Element has no title attribute or the title attribute is empty--Element\\'s default semantics were not overridden with role=\"\"presentation\"\"--Element\\'s default semantics were not overridden with role=\"\"none\"\"\",\".left-6 > img[src$=\"\"Quicklinks_Forms_icon.png\"\"]\",8.0,1.1.1 Non-text Content (Level A)\\n14,https://www.cpf.gov.sg/Members#,image-alt,critical,https://dequeuniversity.com/rules/axe/2.6/image-alt?application=webdriverjs,\"<img border=\"\"0\"\" src=\"\"/Assets/common/PublishingImages/Cards/Quicklinks_Calculators_icon.png\"\">\",\"Element does not have an alt attribute--aria-label attribute does not exist or is empty--aria-labelledby attribute does not exist- references elements that do not exist or references elements that are empty or not visible--Element has no title attribute or the title attribute is empty--Element\\'s default semantics were not overridden with role=\"\"presentation\"\"--Element\\'s default semantics were not overridden with role=\"\"none\"\"\",.left-5 > img,8.0,1.1.1 Non-text Content (Level A)\\n15,https://www.cpf.gov.sg/Members#,image-alt,critical,https://dequeuniversity.com/rules/axe/2.6/image-alt?application=webdriverjs,\"<img border=\"\"0\"\" src=\"\"/Assets/common/PublishingImages/Cards/Quicklinks_Calculators_icon.png\"\">\",\"Element does not have an alt attribute--aria-label attribute does not exist or is empty--aria-labelledby attribute does not exist- references elements that do not exist or references elements that are empty or not visible--Element has no title attribute or the title attribute is empty--Element\\'s default semantics were not overridden with role=\"\"presentation\"\"--Element\\'s default semantics were not overridden with role=\"\"none\"\"\",.left-4 > img,8.0,1.1.1 Non-text Content (Level A)\\n16,https://www.cpf.gov.sg/Members#,label,critical,https://dequeuniversity.com/rules/axe/2.6/label?application=webdriverjs,\"<textarea name=\"\"chat_input\"\" maxlength=\"\"170\"\" class=\"\"chat_textarea\"\" id=\"\"chat_input\"\" placeholder=\"\"Type your question ...\"\"></textarea>\",aria-label attribute does not exist or is empty--aria-labelledby attribute does not exist- references elements that do not exist or references elements that are empty or not visible--Form element does not have an implicit (wrapped) <label>--Form element does not have an explicit <label>--Element has no title attribute or the title attribute is empty,#chat_input,20.0,1.1.1 Non-text Content (Level A)\\n17,https://www.cpf.gov.sg/Members#,label,critical,https://dequeuniversity.com/rules/axe/2.6/label?application=webdriverjs,\"<textarea name=\"\"chat_input\"\" maxlength=\"\"170\"\" class=\"\"chat_textarea\"\" id=\"\"chat_input\"\" placeholder=\"\"Type your question ...\"\"></textarea>\",aria-label attribute does not exist or is empty--aria-labelledby attribute does not exist- references elements that do not exist or references elements that are empty or not visible--Form element does not have an implicit (wrapped) <label>--Form element does not have an explicit <label>--Element has no title attribute or the title attribute is empty,#chat_input,20.0,3.3.2 Labels or Instructions (Level A)\\n18,https://www.cpf.gov.sg/Members#,landmark-one-main,moderate,https://dequeuniversity.com/rules/axe/2.6/landmark-one-main?application=webdriverjs,\"<html dir=\"\"ltr\"\" lang=\"\"en-SG\"\" style=\"\"\"\" class=\"\"cpf-js cpf-flexbox cpf-canvas cpf-canvastext cpf-no-touch cpf-postmessage cpf-indexeddb cpf-hashchange cpf-history cpf-rgba cpf-hsla cpf-multiplebgs cpf-backgroundsize cpf-borderimage cpf-borderradius cpf-boxshadow cpf-textshadow cpf-opacity cpf-cssanimations cpf-csscolumns cpf-cssgradients cpf-cssreflections cpf-csstransforms cpf-csstransforms3d cpf-csstransitions cpf-fontface cpf-generatedcontent cpf-video cpf-audio cpf-localstorage cpf-sessionstorage cpf-applicationcache cpf-svg cpf-inlinesvg cpf-smil cpf-svgclippaths k-webkit k-webkit79 hydrated wf-librefranklin-n4-inactive wf-inactive\"\">\",,html,2.0,\\n19,https://www.cpf.gov.sg/Members#,link-name,serious,https://dequeuniversity.com/rules/axe/2.6/link-name?application=webdriverjs,\"<a href=\"\"/Members/Schemes/schemes/other-matters/cpf-nomination-scheme\"\" target=\"\"_blank\"\"><img src=\"\"/Assets/common/PublishingImages/HeroImage/Nomination_HeroImage_Text_girl.png\"\" alt=\"\"\"\" style=\"\"margin:5px;\"\"></a>\",\"Element does not have text that is visible to screen readers--aria-label attribute does not exist or is empty--aria-labelledby attribute does not exist- references elements that do not exist or references elements that are empty or not visible--Element\\'s default semantics were not overridden with role=\"\"presentation\"\"--Element\\'s default semantics were not overridden with role=\"\"none\"\"\",\"#imageRotator > [role=\"\"listbox\"\"] > div:nth-child(1) > .caption-container > .rightbox > .carousel-caption1 > .heading > p > a[href$=\"\"cpf-nomination-scheme\"\"]\",10.0,\"2.4.4 Link Purpose (In Context) (Level A),\\n4.1.2 Name, Role, Value (Level A)\"\\n20,https://www.cpf.gov.sg/Members#,fake-rule,serious,There isn\\'t a help url for this!,\"<a id=\"\"linkTurnOnAcc\"\" href=\"\"#\"\" class=\"\"ms-TurnOnAcc\"\" onclick=\"\"SetIsAccessibilityFeatureEnabled(true);UpdateAccessibilityUI();document.getElementById(\\'linkTurnOffAcc\\').focus();return false;\"\">                Turn on more accessible mode            </a>\",Element has no Bok Choy,#linkTurnOnAcc,,\\n21,https://www.cpf.gov.sg/Members#,fake-rule,serious,There isn\\'t a help url for this!,\"<a id=\"\"linkTurnOffAnimation\"\" href=\"\"#\"\" class=\"\"ms-accessible ms-acc-button\"\" onclick=\"\"ToggleAnimationStatus();return false;\"\">                Turn off Animations            </a>\",Element has no Bok Choy,#linkTurnOffAnimation,,\\n22,https://www.cpf.gov.sg/Members#,fake-rule,serious,There isn\\'t a help url for this!,\"<a class=\"\"sgds-button is-text is-large no-padding-LR\"\" style=\"\"text-decoration: none\"\" id=\"\"search-activate\"\">                                        <span class=\"\"sgds-icon is-size-5 sgds-icon-search\"\">                                        </span>                                    </a>\",Element has no Bok Choy,#search-activate,,\\n23,https://www.cpf.gov.sg/Members#,fake-rule,serious,There isn\\'t a help url for this!,\"<a id=\"\"mainContent\"\" name=\"\"mainContent\"\" tabindex=\"\"-1\"\">                        </a>\",Element has no Bok Choy,#mainContent,,\\n24,https://www.cpf.gov.sg/Members#,fake-rule,serious,There isn\\'t a help url for this!,\"<a href=\"\"#\"\">Learn About CPF Nominations</a>\",Element has no Bok Choy,.selected > a,,\\n25,https://www.cpf.gov.sg/Members#,fake-rule,serious,There isn\\'t a help url for this!,\"<a href=\"\"#\"\">Grow your CPF savings</a>\",Element has no Bok Choy,#imageRotator > .nav > div:nth-child(2) > a,,\\n26,URL,Volation Type,Impact,Help,HTML Element,Messages,DOM Element,,\\n27,https://www.gov.sg/,color-contrast,serious,https://dequeuniversity.com/rules/axe/2.6/color-contrast?application=webdriverjs,<span>Education</span>,Element has insufficient color contrast of 2.05 (foreground color: #ffffff- background color: #f19cbb- font size: 9.0pt- font weight: normal). Expected contrast ratio of 4.5:1,html > body > .banner-art.js-banner-art > .banner-art__inner > .banner-art__list > a:nth-child(2) > .banner-art__info > .banner-art__itag > .tag.tag-primary > span,6.0,1.4.3 Contrast (Minimum) (Level AA)\\n28,https://www.gov.sg/,color-contrast,serious,https://dequeuniversity.com/rules/axe/2.6/color-contrast?application=webdriverjs,<span>Housing</span>,Element has insufficient color contrast of 3.14 (foreground color: #ffffff- background color: #cd7f32- font size: 9.0pt- font weight: normal). Expected contrast ratio of 4.5:1,html > body > .banner-art.js-banner-art > .banner-art__inner > .banner-art__list > a:nth-child(3) > .banner-art__info > .banner-art__itag > .tag.tag-primary > span,6.0,1.4.3 Contrast (Minimum) (Level AA)\\n29,https://www.gov.sg/,color-contrast,serious,https://dequeuniversity.com/rules/axe/2.6/color-contrast?application=webdriverjs,\"<span class=\"\"button is-radiusless tag tag-primary\"\" style=\"\"background-color: #B0BF1A;\"\">                                    Savings and Taxes                                </span>\",Element has insufficient color contrast of 2.03 (foreground color: #ffffff- background color: #b0bf1a- font size: 9.0pt- font weight: normal). Expected contrast ratio of 4.5:1,html > body > .section--layout > .container > .layout-panel > .columns > .column > div:nth-child(2) > div > div:nth-child(3) > a > .latest-content__info > span,6.0,1.4.3 Contrast (Minimum) (Level AA)\\n30,https://www.gov.sg/,color-contrast,serious,https://dequeuniversity.com/rules/axe/2.6/color-contrast?application=webdriverjs,\"<span class=\"\"button is-radiusless tag tag-primary\"\" style=\"\"background-color: #9966CC;\"\">                                    Social and Community                                </span>\",Element has insufficient color contrast of 4.09 (foreground color: #ffffff- background color: #9966cc- font size: 9.0pt- font weight: normal). Expected contrast ratio of 4.5:1,html > body > .section--layout > .container > .layout-panel > .columns > .column > div:nth-child(2) > div > div:nth-child(4) > a > .latest-content__info > span,6.0,1.4.3 Contrast (Minimum) (Level AA)\\n31,https://www.gov.sg/,color-contrast,serious,https://dequeuniversity.com/rules/axe/2.6/color-contrast?application=webdriverjs,\"<span class=\"\"button is-radiusless tag tag-primary\"\" style=\"\"background-color: #F19CBB;\"\">                                    Education                                </span>\",Element has insufficient color contrast of 2.05 (foreground color: #ffffff- background color: #f19cbb- font size: 9.0pt- font weight: normal). Expected contrast ratio of 4.5:1,html > body > .section--layout > .container > .layout-panel > .columns > .column > div:nth-child(2) > div > div:nth-child(6) > a > .latest-content__info > span,6.0,1.4.3 Contrast (Minimum) (Level AA)\\n32,https://www.gov.sg/,color-contrast,serious,https://dequeuniversity.com/rules/axe/2.6/color-contrast?application=webdriverjs,\"<a href=\"\"~/link.aspx?_id=A9760E2521D942CDA2F6E4FB690DBFFC&amp;_z=z\"\">here</a>\",Element has insufficient color contrast of 3.7 (foreground color: #d81800- background color: #dadada- font size: 12.0pt- font weight: normal). Expected contrast ratio of 4.5:1,p > a,6.0,1.4.3 Contrast (Minimum) (Level AA)\\n33,https://www.gov.sg/,frame-title,serious,https://dequeuniversity.com/rules/axe/2.6/frame-title?application=webdriverjs,\"<iframe src=\"\"https://www.youtube.com/embed/undefined??disablekb=1&amp;rel=0&amp;enablejsapi=1&amp;origin=https%3A%2F%2Fwww.gov.sg\"\" allow=\"\"autoplay\"\" frameborder=\"\"0\"\" class=\"\"yt-pl__player\"\" data-gtm-yt-inspected-12325006_41=\"\"true\"\" id=\"\"185935953\"\" cd_frame_id_=\"\"cd494173197afe0fd97f313220de9929\"\"></iframe>\",\"aria-label attribute does not exist or is empty--aria-labelledby attribute does not exist- references elements that do not exist or references elements that are empty or not visible--Element has no title attribute or the title attribute is empty--Element\\'s default semantics were not overridden with role=\"\"presentation\"\"--Element\\'s default semantics were not overridden with role=\"\"none\"\"\",#\\\\31 85935953,8.0,\"2.4.1 Bypass Blocks (Level A),\\n4.1.2 Name, Role, Value (Level A)\"\\n34,https://www.gov.sg/,landmark-one-main,moderate,https://dequeuniversity.com/rules/axe/2.6/landmark-one-main?application=webdriverjs,\"<html lang=\"\"en\"\" style=\"\"--vh:5.59px;\"\">\",,html,2.0,\\n35,https://www.gov.sg/,link-name,serious,https://dequeuniversity.com/rules/axe/2.6/link-name?application=webdriverjs,\"<a href=\"\"https://www.facebook.com/gov.sg\"\" class=\"\"navbar-socialmedia__item\"\" target=\"\"_blank\"\">\",\"Element does not have text that is visible to screen readers--aria-label attribute does not exist or is empty--aria-labelledby attribute does not exist- references elements that do not exist or references elements that are empty or not visible--Element\\'s default semantics were not overridden with role=\"\"presentation\"\"--Element\\'s default semantics were not overridden with role=\"\"none\"\"\",\"html > body > .header-wrapper.is-stuck > header > [role=\"\"navigation\"\"]:nth-child(2) > .container > .navbar-menu > .navbar-end > .navbar-socialmedia > .navbar-item > .navbar-socialmedia__items > a[href$=\"\"gov.sg\"\"]:nth-child(1)\",10.0,\"2.4.4 Link Purpose (In Context) (Level A),\\n4.1.2 Name, Role, Value (Level A)\"\\n36,https://www.gov.sg/,link-name,serious,https://dequeuniversity.com/rules/axe/2.6/link-name?application=webdriverjs,\"<a href=\"\"https://www.instagram.com/gov.sg/\"\" class=\"\"navbar-socialmedia__item\"\" target=\"\"_blank\"\">\",\"Element does not have text that is visible to screen readers--aria-label attribute does not exist or is empty--aria-labelledby attribute does not exist- references elements that do not exist or references elements that are empty or not visible--Element\\'s default semantics were not overridden with role=\"\"presentation\"\"--Element\\'s default semantics were not overridden with role=\"\"none\"\"\",\"html > body > .header-wrapper.is-stuck > header > [role=\"\"navigation\"\"]:nth-child(2) > .container > .navbar-menu > .navbar-end > .navbar-socialmedia > .navbar-item > .navbar-socialmedia__items > a[href$=\"\"gov.sg/\"\"]\",10.0,\"2.4.4 Link Purpose (In Context) (Level A),\\n4.1.2 Name, Role, Value (Level A)\"\\n37,https://www.gov.sg/,link-name,serious,https://dequeuniversity.com/rules/axe/2.6/link-name?application=webdriverjs,\"<a href=\"\"https://www.youtube.com/user/govsingapore\"\" class=\"\"navbar-socialmedia__item\"\" target=\"\"_blank\"\">\",\"Element does not have text that is visible to screen readers--aria-label attribute does not exist or is empty--aria-labelledby attribute does not exist- references elements that do not exist or references elements that are empty or not visible--Element\\'s default semantics were not overridden with role=\"\"presentation\"\"--Element\\'s default semantics were not overridden with role=\"\"none\"\"\",\"html > body > .header-wrapper.is-stuck > header > [role=\"\"navigation\"\"]:nth-child(2) > .container > .navbar-menu > .navbar-end > .navbar-socialmedia > .navbar-item > .navbar-socialmedia__items > a[href$=\"\"govsingapore\"\"]\",10.0,\"2.4.4 Link Purpose (In Context) (Level A),\\n4.1.2 Name, Role, Value (Level A)\"\\n38,https://www.gov.sg/,link-name,serious,https://dequeuniversity.com/rules/axe/2.6/link-name?application=webdriverjs,\"<a href=\"\"https://twitter.com/govsingapore/\"\" class=\"\"navbar-socialmedia__item\"\" target=\"\"_blank\"\">\",\"Element does not have text that is visible to screen readers--aria-label attribute does not exist or is empty--aria-labelledby attribute does not exist- references elements that do not exist or references elements that are empty or not visible--Element\\'s default semantics were not overridden with role=\"\"presentation\"\"--Element\\'s default semantics were not overridden with role=\"\"none\"\"\",\"html > body > .header-wrapper.is-stuck > header > [role=\"\"navigation\"\"]:nth-child(2) > .container > .navbar-menu > .navbar-end > .navbar-socialmedia > .navbar-item > .navbar-socialmedia__items > a[href$=\"\"govsingapore/\"\"]\",10.0,\"2.4.4 Link Purpose (In Context) (Level A),\\n4.1.2 Name, Role, Value (Level A)\"\\n39,https://www.gov.sg/,link-name,serious,https://dequeuniversity.com/rules/axe/2.6/link-name?application=webdriverjs,\"<a href=\"\"https://sg.sg/mgp\"\" class=\"\"navbar-socialmedia__item\"\" target=\"\"_blank\"\">\",\"Element does not have text that is visible to screen readers--aria-label attribute does not exist or is empty--aria-labelledby attribute does not exist- references elements that do not exist or references elements that are empty or not visible--Element\\'s default semantics were not overridden with role=\"\"presentation\"\"--Element\\'s default semantics were not overridden with role=\"\"none\"\"\",\"html > body > .header-wrapper.is-stuck > header > [role=\"\"navigation\"\"]:nth-child(2) > .container > .navbar-menu > .navbar-end > .navbar-socialmedia > .navbar-item > .navbar-socialmedia__items > a[href$=\"\"mgp\"\"]\",10.0,\"2.4.4 Link Purpose (In Context) (Level A),\\n4.1.2 Name, Role, Value (Level A)\"\\n40,https://www.gov.sg/,link-name,serious,https://dequeuniversity.com/rules/axe/2.6/link-name?application=webdriverjs,\"<a href=\"\"https://m.me/gov.sg\"\" class=\"\"navbar-socialmedia__item\"\" target=\"\"_blank\"\">\",\"Element does not have text that is visible to screen readers--aria-label attribute does not exist or is empty--aria-labelledby attribute does not exist- references elements that do not exist or references elements that are empty or not visible--Element\\'s default semantics were not overridden with role=\"\"presentation\"\"--Element\\'s default semantics were not overridden with role=\"\"none\"\"\",\"html > body > .header-wrapper.is-stuck > header > [role=\"\"navigation\"\"]:nth-child(2) > .container > .navbar-menu > .navbar-end > .navbar-socialmedia > .navbar-item > .navbar-socialmedia__items > a[href$=\"\"gov.sg\"\"]:nth-child(6)\",10.0,\"2.4.4 Link Purpose (In Context) (Level A),\\n4.1.2 Name, Role, Value (Level A)\"\\n41,https://www.gov.sg/,link-name,serious,https://dequeuniversity.com/rules/axe/2.6/link-name?application=webdriverjs,\"<a href=\"\"/\"\">            <img alt=\"\"\"\" src=\"\"/-/media/gov/images/shared/logo/2019-08-07.png\"\">        </a>\",\"Element does not have text that is visible to screen readers--aria-label attribute does not exist or is empty--aria-labelledby attribute does not exist- references elements that do not exist or references elements that are empty or not visible--Element\\'s default semantics were not overridden with role=\"\"presentation\"\"--Element\\'s default semantics were not overridden with role=\"\"none\"\"\",.footer-brand > a,10.0,\"2.4.4 Link Purpose (In Context) (Level A),\\n4.1.2 Name, Role, Value (Level A)\"\\n42,https://www.gov.sg/,link-name,serious,https://dequeuniversity.com/rules/axe/2.6/link-name?application=webdriverjs,\"<a href=\"\"https://www.facebook.com/gov.sg\"\" class=\"\"navbar-socialmedia__item\"\" target=\"\"_blank\"\">\",\"Element does not have text that is visible to screen readers--aria-label attribute does not exist or is empty--aria-labelledby attribute does not exist- references elements that do not exist or references elements that are empty or not visible--Element\\'s default semantics were not overridden with role=\"\"presentation\"\"--Element\\'s default semantics were not overridden with role=\"\"none\"\"\",\"html > body > footer > .container > .footer-main > .footer-social > .navbar-socialmedia > .navbar-item > .navbar-socialmedia__items > a[href$=\"\"gov.sg\"\"]:nth-child(1)\",10.0,\"2.4.4 Link Purpose (In Context) (Level A),\\n4.1.2 Name, Role, Value (Level A)\"\\n43,https://www.gov.sg/,link-name,serious,https://dequeuniversity.com/rules/axe/2.6/link-name?application=webdriverjs,\"<a href=\"\"https://www.instagram.com/gov.sg/\"\" class=\"\"navbar-socialmedia__item\"\" target=\"\"_blank\"\">\",\"Element does not have text that is visible to screen readers--aria-label attribute does not exist or is empty--aria-labelledby attribute does not exist- references elements that do not exist or references elements that are empty or not visible--Element\\'s default semantics were not overridden with role=\"\"presentation\"\"--Element\\'s default semantics were not overridden with role=\"\"none\"\"\",\"html > body > footer > .container > .footer-main > .footer-social > .navbar-socialmedia > .navbar-item > .navbar-socialmedia__items > a[href$=\"\"gov.sg/\"\"]\",10.0,\"2.4.4 Link Purpose (In Context) (Level A),\\n4.1.2 Name, Role, Value (Level A)\"\\n44,https://www.gov.sg/,link-name,serious,https://dequeuniversity.com/rules/axe/2.6/link-name?application=webdriverjs,\"<a href=\"\"https://www.youtube.com/user/govsingapore\"\" class=\"\"navbar-socialmedia__item\"\" target=\"\"_blank\"\">\",\"Element does not have text that is visible to screen readers--aria-label attribute does not exist or is empty--aria-labelledby attribute does not exist- references elements that do not exist or references elements that are empty or not visible--Element\\'s default semantics were not overridden with role=\"\"presentation\"\"--Element\\'s default semantics were not overridden with role=\"\"none\"\"\",\"html > body > footer > .container > .footer-main > .footer-social > .navbar-socialmedia > .navbar-item > .navbar-socialmedia__items > a[href$=\"\"govsingapore\"\"]\",10.0,\"2.4.4 Link Purpose (In Context) (Level A),\\n4.1.2 Name, Role, Value (Level A)\"\\n45,https://www.gov.sg/,link-name,serious,https://dequeuniversity.com/rules/axe/2.6/link-name?application=webdriverjs,\"<a href=\"\"https://twitter.com/govsingapore/\"\" class=\"\"navbar-socialmedia__item\"\" target=\"\"_blank\"\">\",\"Element does not have text that is visible to screen readers--aria-label attribute does not exist or is empty--aria-labelledby attribute does not exist- references elements that do not exist or references elements that are empty or not visible--Element\\'s default semantics were not overridden with role=\"\"presentation\"\"--Element\\'s default semantics were not overridden with role=\"\"none\"\"\",\"html > body > footer > .container > .footer-main > .footer-social > .navbar-socialmedia > .navbar-item > .navbar-socialmedia__items > a[href$=\"\"govsingapore/\"\"]\",10.0,\"2.4.4 Link Purpose (In Context) (Level A),\\n4.1.2 Name, Role, Value (Level A)\"\\n46,https://www.gov.sg/,link-name,serious,https://dequeuniversity.com/rules/axe/2.6/link-name?application=webdriverjs,\"<a href=\"\"https://sg.sg/mgp\"\" class=\"\"navbar-socialmedia__item\"\" target=\"\"_blank\"\">\",\"Element does not have text that is visible to screen readers--aria-label attribute does not exist or is empty--aria-labelledby attribute does not exist- references elements that do not exist or references elements that are empty or not visible--Element\\'s default semantics were not overridden with role=\"\"presentation\"\"--Element\\'s default semantics were not overridden with role=\"\"none\"\"\",\"html > body > footer > .container > .footer-main > .footer-social > .navbar-socialmedia > .navbar-item > .navbar-socialmedia__items > a[href$=\"\"mgp\"\"]\",10.0,\"2.4.4 Link Purpose (In Context) (Level A),\\n4.1.2 Name, Role, Value (Level A)\"\\n47,https://www.gov.sg/,link-name,serious,https://dequeuniversity.com/rules/axe/2.6/link-name?application=webdriverjs,\"<a href=\"\"https://m.me/gov.sg\"\" class=\"\"navbar-socialmedia__item\"\" target=\"\"_blank\"\">\",\"Element does not have text that is visible to screen readers--aria-label attribute does not exist or is empty--aria-labelledby attribute does not exist- references elements that do not exist or references elements that are empty or not visible--Element\\'s default semantics were not overridden with role=\"\"presentation\"\"--Element\\'s default semantics were not overridden with role=\"\"none\"\"\",\"html > body > footer > .container > .footer-main > .footer-social > .navbar-socialmedia > .navbar-item > .navbar-socialmedia__items > a[href$=\"\"gov.sg\"\"]:nth-child(6)\",10.0,\"2.4.4 Link Purpose (In Context) (Level A),\\n4.1.2 Name, Role, Value (Level A)\"\\n48,https://www.gov.sg/,fake-rule,serious,There isn\\'t a help url for this!,\"<a class=\"\"navbar-link\"\">                            More                        </a>\",Element has no Bok Choy,#navbar-automenu-more > a.navbar-link,,\\n49,https://www.gov.sg/,fake-rule,serious,There isn\\'t a help url for this!,\"<a class=\"\"navbar-link\"\">                                        Resources                                    </a>\",Element has no Bok Choy,#navbar-fullmenu > .navbar-scroll-wrapper > .navbar-additional.navbar-end > .has-dropdown.initialized > a.navbar-link,,\\n50,URL,Volation Type,Impact,Help,HTML Element,Messages,DOM Element,,\\n51,https://www.cpf.gov.sg/Members,aria-required-children,critical,https://dequeuniversity.com/rules/axe/2.6/aria-required-children?application=webdriverjs,\"<div class=\"\"carousel-inner\"\" role=\"\"listbox\"\">\",Required ARIA child role not present: option,\"#imageRotator > [role=\"\"listbox\"\"].carousel-inner\",,\\n52,https://www.cpf.gov.sg/Members,button-name,critical,https://dequeuniversity.com/rules/axe/2.6/button-name?application=webdriverjs,\"<button type=\"\"button\"\" class=\"\"sgds-button is-white is-medium\"\" aria-haspopup=\"\"true\"\" aria-controls=\"\"sgds-dropdown-menu2\"\" style=\"\"padding-left: 7px;padding-right: 4px;\"\">\",\"Element has a value attribute and the value attribute is empty--Element has no value attribute or the value attribute is empty--Element does not have inner text that is visible to screen readers--aria-label attribute does not exist or is empty--aria-labelledby attribute does not exist- references elements that do not exist or references elements that are empty or not visible--Element\\'s default semantics were not overridden with role=\"\"presentation\"\"--Element\\'s default semantics were not overridden with role=\"\"none\"\"\",.sgds-dropdown-trigger > button,20.0,\"4.1.2 Name, Role, Value (Level A)\"\\n53,https://www.cpf.gov.sg/Members,button-name,critical,https://dequeuniversity.com/rules/axe/2.6/button-name?application=webdriverjs,\"<button class=\"\"cpf-btn-share cpf-btn-accessibility-large-size\"\" id=\"\"btnPrint1\"\" data-utility=\"\"printPage\"\" onclick=\"\"window.print(); return false;\"\" style=\"\"margin-left: 5px; background: #464642;\"\">                            <span class=\"\"glyphicon glyphicon-print\"\"></span>                        </button>\",\"Element has a value attribute and the value attribute is empty--Element has no value attribute or the value attribute is empty--Element does not have inner text that is visible to screen readers--aria-label attribute does not exist or is empty--aria-labelledby attribute does not exist- references elements that do not exist or references elements that are empty or not visible--Element\\'s default semantics were not overridden with role=\"\"presentation\"\"--Element\\'s default semantics were not overridden with role=\"\"none\"\"\",#btnPrint1,20.0,\"4.1.2 Name, Role, Value (Level A)\"\\n54,https://www.cpf.gov.sg/Members,color-contrast,serious,https://dequeuniversity.com/rules/axe/2.6/color-contrast?application=webdriverjs,\"<a onclick=\"\"ga(\\'send\\'-\\'event\\'-\\'Member Popular Services\\'-\\'Popular Services Click\\'-\\'View My Statement\\')\"\" href=\"\"https://www.cpf.gov.sg/eSvc/Web/Services/Statement/Statement\"\" target=\"\"_self\"\">View My Statement</a>\",Element has insufficient color contrast of 4.4 (foreground color: #4f8208- background color: #f9f9f9- font size: 12.0pt- font weight: bold). Expected contrast ratio of 4.5:1,\".caption > a[href$=\"\"Statement\"\"]\",6.0,1.4.3 Contrast (Minimum) (Level AA)\\n55,https://www.cpf.gov.sg/Members,color-contrast,serious,https://dequeuniversity.com/rules/axe/2.6/color-contrast?application=webdriverjs,\"<a onclick=\"\"ga(\\'send\\'-\\'event\\'-\\'Member Popular Services\\'-\\'Popular Services Click\\'-\\'View My Activities\\')\"\" href=\"\"https://www.cpf.gov.sg/eSvc/Web/Services/MyActivity/MyActivity\"\" target=\"\"_self\"\">View My Activities</a>\",Element has insufficient color contrast of 4.4 (foreground color: #4f8208- background color: #f9f9f9- font size: 12.0pt- font weight: bold). Expected contrast ratio of 4.5:1,\".caption > a[href$=\"\"MyActivity\"\"]\",6.0,1.4.3 Contrast (Minimum) (Level AA)\\n56,https://www.cpf.gov.sg/Members,color-contrast,serious,https://dequeuniversity.com/rules/axe/2.6/color-contrast?application=webdriverjs,\"<a onclick=\"\"ga(\\'send\\'-\\'event\\'-\\'Member Popular Services\\'-\\'Popular Services Click\\'-\\'Make Voluntary Contributions\\')\"\" href=\"\"https://www.cpf.gov.sg/eSvc/Web/Miscellaneous/Cashier/ECashierHomepage\"\" target=\"\"_self\"\">Make Voluntary Contributions</a>\",Element has insufficient color contrast of 4.4 (foreground color: #4f8208- background color: #f9f9f9- font size: 12.0pt- font weight: bold). Expected contrast ratio of 4.5:1,\"#card_container > .glider-contain.glider-wrap > .glider.draggable > .glider-track > .left-7 > .caption > a[href$=\"\"ECashierHomepage\"\"]\",6.0,1.4.3 Contrast (Minimum) (Level AA)\\n57,https://www.cpf.gov.sg/Members,color-contrast,serious,https://dequeuniversity.com/rules/axe/2.6/color-contrast?application=webdriverjs,\"<a onclick=\"\"ga(\\'send\\'-\\'event\\'-\\'Member Popular Services\\'-\\'Popular Services Click\\'-\\'Make Retirement Top-Ups\\')\"\" href=\"\"https://www.cpf.gov.sg/eSvc/Web/Miscellaneous/Cashier/ECashierHomepage\"\" target=\"\"_self\"\">Make Retirement Top-Ups</a>\",Element has insufficient color contrast of 4.4 (foreground color: #4f8208- background color: #f9f9f9- font size: 12.0pt- font weight: bold). Expected contrast ratio of 4.5:1,\"#card_container > .glider-contain.glider-wrap > .glider.draggable > .glider-track > .left-6 > .caption > a[href$=\"\"ECashierHomepage\"\"]\",6.0,1.4.3 Contrast (Minimum) (Level AA)\\n58,https://www.cpf.gov.sg/Members,color-contrast,serious,https://dequeuniversity.com/rules/axe/2.6/color-contrast?application=webdriverjs,\"<a onclick=\"\"ga(\\'send\\'-\\'event\\'-\\'Member Popular Services\\'-\\'Popular Services Click\\'-\\'Calculate CPF Contributions\\')\"\" href=\"\"https://www.cpf.gov.sg/eSvc/Web/Miscellaneous/ContributionCalculator/Index?isFirstAndSecondYear=0&amp;isMember=1\"\" target=\"\"_self\"\">Calculate CPF Contributions</a>\",Element has insufficient color contrast of 4.4 (foreground color: #4f8208- background color: #f9f9f9- font size: 12.0pt- font weight: bold). Expected contrast ratio of 4.5:1,#card_container > .glider-contain.glider-wrap > .glider.draggable > .glider-track > .left-5 > .caption > a,6.0,1.4.3 Contrast (Minimum) (Level AA)\\n59,https://www.cpf.gov.sg/Members,color-contrast,serious,https://dequeuniversity.com/rules/axe/2.6/color-contrast?application=webdriverjs,\"<a onclick=\"\"ga(\\'send\\'-\\'event\\'-\\'Member Popular Services\\'-\\'Popular Services Click\\'-\\'Calculate CPF LIFE Payouts\\')\"\" href=\"\"https://www.cpf.gov.sg/eSvc/Web/Schemes/LifeEstimator/LifeEstimator\"\" target=\"\"_self\"\">Calculate CPF LIFE Payouts</a>\",Element has insufficient color contrast of 4.4 (foreground color: #4f8208- background color: #f9f9f9- font size: 12.0pt- font weight: bold). Expected contrast ratio of 4.5:1,\".caption > a[href$=\"\"LifeEstimator\"\"]\",6.0,1.4.3 Contrast (Minimum) (Level AA)\\n60,https://www.cpf.gov.sg/Members,duplicate-id,moderate,https://dequeuniversity.com/rules/axe/2.6/duplicate-id?application=webdriverjs,\"<div class=\"\"ms-srch-dataProvider\"\" id=\"\"DataProvider\"\" name=\"\"Control\"\"></div>\",Document has multiple elements with the same id attribute: DataProvider,#ctl00_ctl87_g_32e23222_9cdf_4318_9dd2_33760a7e30d8_ctl00_csr > div.ms-srch-dataProvider,1.0,4.1.1 Parsing (Level A)\\n61,https://www.cpf.gov.sg/Members,image-alt,critical,https://dequeuniversity.com/rules/axe/2.6/image-alt?application=webdriverjs,\"<img border=\"\"0\"\" src=\"\"/Assets/common/PublishingImages/Cards/Quicklinks_Statements_icon.png\"\">\",\"Element does not have an alt attribute--aria-label attribute does not exist or is empty--aria-labelledby attribute does not exist- references elements that do not exist or references elements that are empty or not visible--Element has no title attribute or the title attribute is empty--Element\\'s default semantics were not overridden with role=\"\"presentation\"\"--Element\\'s default semantics were not overridden with role=\"\"none\"\"\",.left-9 > img,8.0,1.1.1 Non-text Content (Level A)\\n62,https://www.cpf.gov.sg/Members,image-alt,critical,https://dequeuniversity.com/rules/axe/2.6/image-alt?application=webdriverjs,\"<img border=\"\"0\"\" src=\"\"/Assets/common/PublishingImages/Cards/Quicklinks_Statements_icon.png\"\">\",\"Element does not have an alt attribute--aria-label attribute does not exist or is empty--aria-labelledby attribute does not exist- references elements that do not exist or references elements that are empty or not visible--Element has no title attribute or the title attribute is empty--Element\\'s default semantics were not overridden with role=\"\"presentation\"\"--Element\\'s default semantics were not overridden with role=\"\"none\"\"\",.left-8 > img,8.0,1.1.1 Non-text Content (Level A)\\n63,https://www.cpf.gov.sg/Members,image-alt,critical,https://dequeuniversity.com/rules/axe/2.6/image-alt?application=webdriverjs,\"<img border=\"\"0\"\" src=\"\"/Assets/common/PublishingImages/Cards/Quicklinks_Forms_icon.png\"\">\",\"Element does not have an alt attribute--aria-label attribute does not exist or is empty--aria-labelledby attribute does not exist- references elements that do not exist or references elements that are empty or not visible--Element has no title attribute or the title attribute is empty--Element\\'s default semantics were not overridden with role=\"\"presentation\"\"--Element\\'s default semantics were not overridden with role=\"\"none\"\"\",\".left-7 > img[src$=\"\"Quicklinks_Forms_icon.png\"\"]\",8.0,1.1.1 Non-text Content (Level A)\\n64,https://www.cpf.gov.sg/Members,image-alt,critical,https://dequeuniversity.com/rules/axe/2.6/image-alt?application=webdriverjs,\"<img border=\"\"0\"\" src=\"\"/Assets/common/PublishingImages/Cards/Quicklinks_Forms_icon.png\"\">\",\"Element does not have an alt attribute--aria-label attribute does not exist or is empty--aria-labelledby attribute does not exist- references elements that do not exist or references elements that are empty or not visible--Element has no title attribute or the title attribute is empty--Element\\'s default semantics were not overridden with role=\"\"presentation\"\"--Element\\'s default semantics were not overridden with role=\"\"none\"\"\",\".left-6 > img[src$=\"\"Quicklinks_Forms_icon.png\"\"]\",8.0,1.1.1 Non-text Content (Level A)\\n65,https://www.cpf.gov.sg/Members,image-alt,critical,https://dequeuniversity.com/rules/axe/2.6/image-alt?application=webdriverjs,\"<img border=\"\"0\"\" src=\"\"/Assets/common/PublishingImages/Cards/Quicklinks_Calculators_icon.png\"\">\",\"Element does not have an alt attribute--aria-label attribute does not exist or is empty--aria-labelledby attribute does not exist- references elements that do not exist or references elements that are empty or not visible--Element has no title attribute or the title attribute is empty--Element\\'s default semantics were not overridden with role=\"\"presentation\"\"--Element\\'s default semantics were not overridden with role=\"\"none\"\"\",.left-5 > img,8.0,1.1.1 Non-text Content (Level A)\\n66,https://www.cpf.gov.sg/Members,image-alt,critical,https://dequeuniversity.com/rules/axe/2.6/image-alt?application=webdriverjs,\"<img border=\"\"0\"\" src=\"\"/Assets/common/PublishingImages/Cards/Quicklinks_Calculators_icon.png\"\">\",\"Element does not have an alt attribute--aria-label attribute does not exist or is empty--aria-labelledby attribute does not exist- references elements that do not exist or references elements that are empty or not visible--Element has no title attribute or the title attribute is empty--Element\\'s default semantics were not overridden with role=\"\"presentation\"\"--Element\\'s default semantics were not overridden with role=\"\"none\"\"\",.left-4 > img,8.0,1.1.1 Non-text Content (Level A)\\n67,https://www.cpf.gov.sg/Members,label,critical,https://dequeuniversity.com/rules/axe/2.6/label?application=webdriverjs,\"<textarea name=\"\"chat_input\"\" maxlength=\"\"170\"\" class=\"\"chat_textarea\"\" id=\"\"chat_input\"\" placeholder=\"\"Type your question ...\"\"></textarea>\",aria-label attribute does not exist or is empty--aria-labelledby attribute does not exist- references elements that do not exist or references elements that are empty or not visible--Form element does not have an implicit (wrapped) <label>--Form element does not have an explicit <label>--Element has no title attribute or the title attribute is empty,#chat_input,20.0,1.1.1 Non-text Content (Level A)\\n68,https://www.cpf.gov.sg/Members,label,critical,https://dequeuniversity.com/rules/axe/2.6/label?application=webdriverjs,\"<textarea name=\"\"chat_input\"\" maxlength=\"\"170\"\" class=\"\"chat_textarea\"\" id=\"\"chat_input\"\" placeholder=\"\"Type your question ...\"\"></textarea>\",aria-label attribute does not exist or is empty--aria-labelledby attribute does not exist- references elements that do not exist or references elements that are empty or not visible--Form element does not have an implicit (wrapped) <label>--Form element does not have an explicit <label>--Element has no title attribute or the title attribute is empty,#chat_input,20.0,3.3.2 Labels or Instructions (Level A)\\n69,https://www.cpf.gov.sg/Members,landmark-one-main,moderate,https://dequeuniversity.com/rules/axe/2.6/landmark-one-main?application=webdriverjs,\"<html dir=\"\"ltr\"\" lang=\"\"en-SG\"\" style=\"\"\"\" class=\"\"cpf-js cpf-flexbox cpf-canvas cpf-canvastext cpf-no-touch cpf-postmessage cpf-indexeddb cpf-hashchange cpf-history cpf-rgba cpf-hsla cpf-multiplebgs cpf-backgroundsize cpf-borderimage cpf-borderradius cpf-boxshadow cpf-textshadow cpf-opacity cpf-cssanimations cpf-csscolumns cpf-cssgradients cpf-cssreflections cpf-csstransforms cpf-csstransforms3d cpf-csstransitions cpf-fontface cpf-generatedcontent cpf-video cpf-audio cpf-localstorage cpf-sessionstorage cpf-applicationcache cpf-svg cpf-inlinesvg cpf-smil cpf-svgclippaths k-webkit k-webkit79 hydrated wf-librefranklin-n4-inactive wf-inactive\"\">\",,html,2.0,\\n70,https://www.cpf.gov.sg/Members,link-name,serious,https://dequeuniversity.com/rules/axe/2.6/link-name?application=webdriverjs,\"<a href=\"\"/Members/Schemes/schemes/other-matters/cpf-nomination-scheme\"\" target=\"\"_blank\"\"><img src=\"\"/Assets/common/PublishingImages/HeroImage/Nomination_HeroImage_Text_girl.png\"\" alt=\"\"\"\" style=\"\"margin:5px;\"\"></a>\",\"Element does not have text that is visible to screen readers--aria-label attribute does not exist or is empty--aria-labelledby attribute does not exist- references elements that do not exist or references elements that are empty or not visible--Element\\'s default semantics were not overridden with role=\"\"presentation\"\"--Element\\'s default semantics were not overridden with role=\"\"none\"\"\",\"#imageRotator > [role=\"\"listbox\"\"] > div:nth-child(1) > .caption-container > .rightbox > .carousel-caption1 > .heading > p > a[href$=\"\"cpf-nomination-scheme\"\"]\",10.0,\"2.4.4 Link Purpose (In Context) (Level A),\\n4.1.2 Name, Role, Value (Level A)\"\\n71,https://www.cpf.gov.sg/Members,fake-rule,serious,There isn\\'t a help url for this!,\"<a id=\"\"linkTurnOnAcc\"\" href=\"\"#\"\" class=\"\"ms-TurnOnAcc\"\" onclick=\"\"SetIsAccessibilityFeatureEnabled(true);UpdateAccessibilityUI();document.getElementById(\\'linkTurnOffAcc\\').focus();return false;\"\">                Turn on more accessible mode            </a>\",Element has no Bok Choy,#linkTurnOnAcc,,\\n72,https://www.cpf.gov.sg/Members,fake-rule,serious,There isn\\'t a help url for this!,\"<a id=\"\"linkTurnOffAnimation\"\" href=\"\"#\"\" class=\"\"ms-accessible ms-acc-button\"\" onclick=\"\"ToggleAnimationStatus();return false;\"\">                Turn off Animations            </a>\",Element has no Bok Choy,#linkTurnOffAnimation,,\\n73,https://www.cpf.gov.sg/Members,fake-rule,serious,There isn\\'t a help url for this!,\"<a class=\"\"sgds-button is-text is-large no-padding-LR\"\" style=\"\"text-decoration: none\"\" id=\"\"search-activate\"\">                                        <span class=\"\"sgds-icon is-size-5 sgds-icon-search\"\">                                        </span>                                    </a>\",Element has no Bok Choy,#search-activate,,\\n74,https://www.cpf.gov.sg/Members,fake-rule,serious,There isn\\'t a help url for this!,\"<a id=\"\"mainContent\"\" name=\"\"mainContent\"\" tabindex=\"\"-1\"\">                        </a>\",Element has no Bok Choy,#mainContent,,\\n75,https://www.cpf.gov.sg/Members,fake-rule,serious,There isn\\'t a help url for this!,\"<a href=\"\"#\"\">Learn About CPF Nominations</a>\",Element has no Bok Choy,.selected > a,,\\n76,https://www.cpf.gov.sg/Members,fake-rule,serious,There isn\\'t a help url for this!,\"<a href=\"\"#\"\">Grow your CPF savings</a>\",Element has no Bok Choy,#imageRotator > .nav > div:nth-child(2) > a,,\\n77,URL,Volation Type,Impact,Help,HTML Element,Messages,DOM Element,,\\n78,https://saml.singpass.gov.sg/spauth/login/eservloginpage?URL=%2FFIM%2Fsps%2FSingpassIDPFed%2Fsaml20%2Flogininitial%3FRequestBinding%3DHTTPArtifact%26ResponseBinding%3DHTTPArtifact%26PartnerId%3Dhttp%253A%252F%252Fweb.cpf.gov.sg%252Fadfs%252Fservices%252Ftrust%26Target%3DRPID%253Dhttps%25253a%25252f%25252fwww.cpf.gov.sg%25252feSvc%25252fWeb%25252f%2526wctx%253Drm%25253d0%252526id%25253dpassive%252526ru%25253d%2525252feSvc%2525252fWeb%2525252fPortalServices%2525252fWelcomePage%26NameIdFormat%3DEmail%26esrvcID%3DCPFeService&TAM_OP=login,color-contrast,serious,https://dequeuniversity.com/rules/axe/2.6/color-contrast?application=webdriverjs,\"<span class=\"\"announcement-title\"\">Upcoming Scheduled Maintenance</span>\",Element has insufficient color contrast of 4.27 (foreground color: #e11f26- background color: #f3f3f3- font size: 12.0pt- font weight: bold). Expected contrast ratio of 4.5:1,.alert-body.alert-body-right > span.announcement-title,6.0,1.4.3 Contrast (Minimum) (Level AA)\\n79,https://saml.singpass.gov.sg/spauth/login/eservloginpage?URL=%2FFIM%2Fsps%2FSingpassIDPFed%2Fsaml20%2Flogininitial%3FRequestBinding%3DHTTPArtifact%26ResponseBinding%3DHTTPArtifact%26PartnerId%3Dhttp%253A%252F%252Fweb.cpf.gov.sg%252Fadfs%252Fservices%252Ftrust%26Target%3DRPID%253Dhttps%25253a%25252f%25252fwww.cpf.gov.sg%25252feSvc%25252fWeb%25252f%2526wctx%253Drm%25253d0%252526id%25253dpassive%252526ru%25253d%2525252feSvc%2525252fWeb%2525252fPortalServices%2525252fWelcomePage%26NameIdFormat%3DEmail%26esrvcID%3DCPFeService&TAM_OP=login,color-contrast,serious,https://dequeuniversity.com/rules/axe/2.6/color-contrast?application=webdriverjs,\"<span id=\"\"sp-mobile-tooltip\"\" class=\"\"sp-mobile-tooltip ani-rotate\"\">\",Element has insufficient color contrast of 4.36 (foreground color: #ffffff- background color: #ed1c2e- font size: 9.0pt- font weight: normal). Expected contrast ratio of 4.5:1,#sp-mobile-tooltip,6.0,1.4.3 Contrast (Minimum) (Level AA)\\n80,https://saml.singpass.gov.sg/spauth/login/eservloginpage?URL=%2FFIM%2Fsps%2FSingpassIDPFed%2Fsaml20%2Flogininitial%3FRequestBinding%3DHTTPArtifact%26ResponseBinding%3DHTTPArtifact%26PartnerId%3Dhttp%253A%252F%252Fweb.cpf.gov.sg%252Fadfs%252Fservices%252Ftrust%26Target%3DRPID%253Dhttps%25253a%25252f%25252fwww.cpf.gov.sg%25252feSvc%25252fWeb%25252f%2526wctx%253Drm%25253d0%252526id%25253dpassive%252526ru%25253d%2525252feSvc%2525252fWeb%2525252fPortalServices%2525252fWelcomePage%26NameIdFormat%3DEmail%26esrvcID%3DCPFeService&TAM_OP=login,color-contrast,serious,https://dequeuniversity.com/rules/axe/2.6/color-contrast?application=webdriverjs,\"<a aria-label=\"\"Forgot SingPass ID\"\" href=\"\"//www.singpass.gov.sg/singpass/retrieveaccount/retrievesingpassid\"\">SingPass ID</a>\",Element has insufficient color contrast of 3.52 (foreground color: #0088ff- background color: #ffffff- font size: 11.3pt- font weight: normal). Expected contrast ratio of 4.5:1,\".login-note > a[href$=\"\"retrievesingpassid\"\"]\",6.0,1.4.3 Contrast (Minimum) (Level AA)\\n81,https://saml.singpass.gov.sg/spauth/login/eservloginpage?URL=%2FFIM%2Fsps%2FSingpassIDPFed%2Fsaml20%2Flogininitial%3FRequestBinding%3DHTTPArtifact%26ResponseBinding%3DHTTPArtifact%26PartnerId%3Dhttp%253A%252F%252Fweb.cpf.gov.sg%252Fadfs%252Fservices%252Ftrust%26Target%3DRPID%253Dhttps%25253a%25252f%25252fwww.cpf.gov.sg%25252feSvc%25252fWeb%25252f%2526wctx%253Drm%25253d0%252526id%25253dpassive%252526ru%25253d%2525252feSvc%2525252fWeb%2525252fPortalServices%2525252fWelcomePage%26NameIdFormat%3DEmail%26esrvcID%3DCPFeService&TAM_OP=login,color-contrast,serious,https://dequeuniversity.com/rules/axe/2.6/color-contrast?application=webdriverjs,\"<a aria-label=\"\"Forgot password\"\" href=\"\"//www.singpass.gov.sg/singpass/onlineresetpassword/userdetail\"\">password</a>\",Element has insufficient color contrast of 3.52 (foreground color: #0088ff- background color: #ffffff- font size: 11.3pt- font weight: normal). Expected contrast ratio of 4.5:1,\".login-note > a[href$=\"\"userdetail\"\"]\",6.0,1.4.3 Contrast (Minimum) (Level AA)\\n82,https://saml.singpass.gov.sg/spauth/login/eservloginpage?URL=%2FFIM%2Fsps%2FSingpassIDPFed%2Fsaml20%2Flogininitial%3FRequestBinding%3DHTTPArtifact%26ResponseBinding%3DHTTPArtifact%26PartnerId%3Dhttp%253A%252F%252Fweb.cpf.gov.sg%252Fadfs%252Fservices%252Ftrust%26Target%3DRPID%253Dhttps%25253a%25252f%25252fwww.cpf.gov.sg%25252feSvc%25252fWeb%25252f%2526wctx%253Drm%25253d0%252526id%25253dpassive%252526ru%25253d%2525252feSvc%2525252fWeb%2525252fPortalServices%2525252fWelcomePage%26NameIdFormat%3DEmail%26esrvcID%3DCPFeService&TAM_OP=login,color-contrast,serious,https://dequeuniversity.com/rules/axe/2.6/color-contrast?application=webdriverjs,\"<a aria-label=\"\"Register now\"\" href=\"\"//www.singpass.gov.sg/singpass/register/instructions\"\">Register now</a>\",Element has insufficient color contrast of 3.52 (foreground color: #0088ff- background color: #ffffff- font size: 11.3pt- font weight: normal). Expected contrast ratio of 4.5:1,\".sp-reglink > a[href$=\"\"instructions\"\"]\",6.0,1.4.3 Contrast (Minimum) (Level AA)\\n83,https://saml.singpass.gov.sg/spauth/login/eservloginpage?URL=%2FFIM%2Fsps%2FSingpassIDPFed%2Fsaml20%2Flogininitial%3FRequestBinding%3DHTTPArtifact%26ResponseBinding%3DHTTPArtifact%26PartnerId%3Dhttp%253A%252F%252Fweb.cpf.gov.sg%252Fadfs%252Fservices%252Ftrust%26Target%3DRPID%253Dhttps%25253a%25252f%25252fwww.cpf.gov.sg%25252feSvc%25252fWeb%25252f%2526wctx%253Drm%25253d0%252526id%25253dpassive%252526ru%25253d%2525252feSvc%2525252fWeb%2525252fPortalServices%2525252fWelcomePage%26NameIdFormat%3DEmail%26esrvcID%3DCPFeService&TAM_OP=login,landmark-one-main,moderate,https://dequeuniversity.com/rules/axe/2.6/landmark-one-main?application=webdriverjs,\"<html lang=\"\"en\"\">\",,html,2.0,\\n84,https://saml.singpass.gov.sg/spauth/login/eservloginpage?URL=%2FFIM%2Fsps%2FSingpassIDPFed%2Fsaml20%2Flogininitial%3FRequestBinding%3DHTTPArtifact%26ResponseBinding%3DHTTPArtifact%26PartnerId%3Dhttp%253A%252F%252Fweb.cpf.gov.sg%252Fadfs%252Fservices%252Ftrust%26Target%3DRPID%253Dhttps%25253a%25252f%25252fwww.cpf.gov.sg%25252feSvc%25252fWeb%25252f%2526wctx%253Drm%25253d0%252526id%25253dpassive%252526ru%25253d%2525252feSvc%2525252fWeb%2525252fPortalServices%2525252fWelcomePage%26NameIdFormat%3DEmail%26esrvcID%3DCPFeService&TAM_OP=login,list,serious,https://dequeuniversity.com/rules/axe/2.6/list?application=webdriverjs,<ul>,,.header-links > ul,4.0,1.3.1 Info and Relationships (Level A)\\n85,https://saml.singpass.gov.sg/spauth/login/eservloginpage?URL=%2FFIM%2Fsps%2FSingpassIDPFed%2Fsaml20%2Flogininitial%3FRequestBinding%3DHTTPArtifact%26ResponseBinding%3DHTTPArtifact%26PartnerId%3Dhttp%253A%252F%252Fweb.cpf.gov.sg%252Fadfs%252Fservices%252Ftrust%26Target%3DRPID%253Dhttps%25253a%25252f%25252fwww.cpf.gov.sg%25252feSvc%25252fWeb%25252f%2526wctx%253Drm%25253d0%252526id%25253dpassive%252526ru%25253d%2525252feSvc%2525252fWeb%2525252fPortalServices%2525252fWelcomePage%26NameIdFormat%3DEmail%26esrvcID%3DCPFeService&TAM_OP=login,fake-rule,serious,There isn\\'t a help url for this!,\"<a href=\"\"#\"\" title=\"\"SingPass\"\" aria-label=\"\"SingPass\"\" class=\"\"singpass-logo\"\">SingPass</a>\",Element has no Bok Choy,.singpass-logo-container.pull-left > a.singpass-logo,,\\n86,https://saml.singpass.gov.sg/spauth/login/eservloginpage?URL=%2FFIM%2Fsps%2FSingpassIDPFed%2Fsaml20%2Flogininitial%3FRequestBinding%3DHTTPArtifact%26ResponseBinding%3DHTTPArtifact%26PartnerId%3Dhttp%253A%252F%252Fweb.cpf.gov.sg%252Fadfs%252Fservices%252Ftrust%26Target%3DRPID%253Dhttps%25253a%25252f%25252fwww.cpf.gov.sg%25252feSvc%25252fWeb%25252f%2526wctx%253Drm%25253d0%252526id%25253dpassive%252526ru%25253d%2525252feSvc%2525252fWeb%2525252fPortalServices%2525252fWelcomePage%26NameIdFormat%3DEmail%26esrvcID%3DCPFeService&TAM_OP=login,fake-rule,serious,There isn\\'t a help url for this!,\"<a id=\"\"font-small\"\" href=\"\"#\"\" title=\"\"Decrease the font size\"\" aria-label=\"\"Decrease the font size\"\"><i class=\"\"icon font-size font-small-black\"\"></i></a>\",Element has no Bok Choy,#font-small,,\\n87,https://saml.singpass.gov.sg/spauth/login/eservloginpage?URL=%2FFIM%2Fsps%2FSingpassIDPFed%2Fsaml20%2Flogininitial%3FRequestBinding%3DHTTPArtifact%26ResponseBinding%3DHTTPArtifact%26PartnerId%3Dhttp%253A%252F%252Fweb.cpf.gov.sg%252Fadfs%252Fservices%252Ftrust%26Target%3DRPID%253Dhttps%25253a%25252f%25252fwww.cpf.gov.sg%25252feSvc%25252fWeb%25252f%2526wctx%253Drm%25253d0%252526id%25253dpassive%252526ru%25253d%2525252feSvc%2525252fWeb%2525252fPortalServices%2525252fWelcomePage%26NameIdFormat%3DEmail%26esrvcID%3DCPFeService&TAM_OP=login,fake-rule,serious,There isn\\'t a help url for this!,\"<a id=\"\"font-default\"\" href=\"\"#\"\" title=\"\"Reset the font size\"\" aria-label=\"\"Reset the font size\"\"><i class=\"\"icon font-size font-default-black\"\"></i></a>\",Element has no Bok Choy,#font-default,,\\n88,https://saml.singpass.gov.sg/spauth/login/eservloginpage?URL=%2FFIM%2Fsps%2FSingpassIDPFed%2Fsaml20%2Flogininitial%3FRequestBinding%3DHTTPArtifact%26ResponseBinding%3DHTTPArtifact%26PartnerId%3Dhttp%253A%252F%252Fweb.cpf.gov.sg%252Fadfs%252Fservices%252Ftrust%26Target%3DRPID%253Dhttps%25253a%25252f%25252fwww.cpf.gov.sg%25252feSvc%25252fWeb%25252f%2526wctx%253Drm%25253d0%252526id%25253dpassive%252526ru%25253d%2525252feSvc%2525252fWeb%2525252fPortalServices%2525252fWelcomePage%26NameIdFormat%3DEmail%26esrvcID%3DCPFeService&TAM_OP=login,fake-rule,serious,There isn\\'t a help url for this!,\"<a id=\"\"font-large\"\" href=\"\"#\"\" title=\"\"Increase the font size\"\" aria-label=\"\"Increase the font size\"\"><i class=\"\"icon font-size font-large-black\"\"></i></a>\",Element has no Bok Choy,#font-large,,\\n89,https://saml.singpass.gov.sg/spauth/login/eservloginpage?URL=%2FFIM%2Fsps%2FSingpassIDPFed%2Fsaml20%2Flogininitial%3FRequestBinding%3DHTTPArtifact%26ResponseBinding%3DHTTPArtifact%26PartnerId%3Dhttp%253A%252F%252Fweb.cpf.gov.sg%252Fadfs%252Fservices%252Ftrust%26Target%3DRPID%253Dhttps%25253a%25252f%25252fwww.cpf.gov.sg%25252feSvc%25252fWeb%25252f%2526wctx%253Drm%25253d0%252526id%25253dpassive%252526ru%25253d%2525252feSvc%2525252fWeb%2525252fPortalServices%2525252fWelcomePage%26NameIdFormat%3DEmail%26esrvcID%3DCPFeService&TAM_OP=login,fake-rule,serious,There isn\\'t a help url for this!,\"<a href=\"\"#\"\" data-trigger-function=\"\"window.print()\"\" title=\"\"Print this page\"\" aria-label=\"\"Print this page\"\"><i class=\"\"icon printer-icon-black\"\"></i></a>\",Element has no Bok Choy,html > body > .homepagebody-wrapper > .sp-img-bg > .container-wrapper-header > .mainHeaderContainer.container > .header-links > .header-utility.pull-left > ul > li:nth-child(4) > a,,\\n90,https://saml.singpass.gov.sg/spauth/login/eservloginpage?URL=%2FFIM%2Fsps%2FSingpassIDPFed%2Fsaml20%2Flogininitial%3FRequestBinding%3DHTTPArtifact%26ResponseBinding%3DHTTPArtifact%26PartnerId%3Dhttp%253A%252F%252Fweb.cpf.gov.sg%252Fadfs%252Fservices%252Ftrust%26Target%3DRPID%253Dhttps%25253a%25252f%25252fwww.cpf.gov.sg%25252feSvc%25252fWeb%25252f%2526wctx%253Drm%25253d0%252526id%25253dpassive%252526ru%25253d%2525252feSvc%2525252fWeb%2525252fPortalServices%2525252fWelcomePage%26NameIdFormat%3DEmail%26esrvcID%3DCPFeService&TAM_OP=login,fake-rule,serious,There isn\\'t a help url for this!,\"<a id=\"\"searchIcon\"\" title=\"\"Search within SingPass\"\" aria-label=\"\"Search within SingPass\"\" href=\"\"#\"\" class=\"\"search-icon-black search-form-tigger\"\" data-toggle=\"\"search-form\"\"></a>\",Element has no Bok Choy,#searchIcon,,\\n91,URL,Volation Type,Impact,Help,HTML Element,Messages,DOM Element,,\\n92,https://www.cpf.gov.sg/members,aria-required-children,critical,https://dequeuniversity.com/rules/axe/2.6/aria-required-children?application=webdriverjs,\"<div class=\"\"carousel-inner\"\" role=\"\"listbox\"\">\",Required ARIA child role not present: option,\"#imageRotator > [role=\"\"listbox\"\"].carousel-inner\",,\\n93,https://www.cpf.gov.sg/members,button-name,critical,https://dequeuniversity.com/rules/axe/2.6/button-name?application=webdriverjs,\"<button type=\"\"button\"\" class=\"\"sgds-button is-white is-medium\"\" aria-haspopup=\"\"true\"\" aria-controls=\"\"sgds-dropdown-menu2\"\" style=\"\"padding-left: 7px;padding-right: 4px;\"\">\",\"Element has a value attribute and the value attribute is empty--Element has no value attribute or the value attribute is empty--Element does not have inner text that is visible to screen readers--aria-label attribute does not exist or is empty--aria-labelledby attribute does not exist- references elements that do not exist or references elements that are empty or not visible--Element\\'s default semantics were not overridden with role=\"\"presentation\"\"--Element\\'s default semantics were not overridden with role=\"\"none\"\"\",.sgds-dropdown-trigger > button,20.0,\"4.1.2 Name, Role, Value (Level A)\"\\n94,https://www.cpf.gov.sg/members,button-name,critical,https://dequeuniversity.com/rules/axe/2.6/button-name?application=webdriverjs,\"<button class=\"\"cpf-btn-share cpf-btn-accessibility-large-size\"\" id=\"\"btnPrint1\"\" data-utility=\"\"printPage\"\" onclick=\"\"window.print(); return false;\"\" style=\"\"margin-left: 5px; background: #464642;\"\">                            <span class=\"\"glyphicon glyphicon-print\"\"></span>                        </button>\",\"Element has a value attribute and the value attribute is empty--Element has no value attribute or the value attribute is empty--Element does not have inner text that is visible to screen readers--aria-label attribute does not exist or is empty--aria-labelledby attribute does not exist- references elements that do not exist or references elements that are empty or not visible--Element\\'s default semantics were not overridden with role=\"\"presentation\"\"--Element\\'s default semantics were not overridden with role=\"\"none\"\"\",#btnPrint1,20.0,\"4.1.2 Name, Role, Value (Level A)\"\\n95,https://www.cpf.gov.sg/members,color-contrast,serious,https://dequeuniversity.com/rules/axe/2.6/color-contrast?application=webdriverjs,\"<a onclick=\"\"ga(\\'send\\'-\\'event\\'-\\'Member Popular Services\\'-\\'Popular Services Click\\'-\\'View My Statement\\')\"\" href=\"\"https://www.cpf.gov.sg/eSvc/Web/Services/Statement/Statement\"\" target=\"\"_self\"\">View My Statement</a>\",Element has insufficient color contrast of 4.4 (foreground color: #4f8208- background color: #f9f9f9- font size: 12.0pt- font weight: bold). Expected contrast ratio of 4.5:1,\".caption > a[href$=\"\"Statement\"\"]\",6.0,1.4.3 Contrast (Minimum) (Level AA)\\n96,https://www.cpf.gov.sg/members,color-contrast,serious,https://dequeuniversity.com/rules/axe/2.6/color-contrast?application=webdriverjs,\"<a onclick=\"\"ga(\\'send\\'-\\'event\\'-\\'Member Popular Services\\'-\\'Popular Services Click\\'-\\'View My Activities\\')\"\" href=\"\"https://www.cpf.gov.sg/eSvc/Web/Services/MyActivity/MyActivity\"\" target=\"\"_self\"\">View My Activities</a>\",Element has insufficient color contrast of 4.4 (foreground color: #4f8208- background color: #f9f9f9- font size: 12.0pt- font weight: bold). Expected contrast ratio of 4.5:1,\".caption > a[href$=\"\"MyActivity\"\"]\",6.0,1.4.3 Contrast (Minimum) (Level AA)\\n97,https://www.cpf.gov.sg/members,color-contrast,serious,https://dequeuniversity.com/rules/axe/2.6/color-contrast?application=webdriverjs,\"<a onclick=\"\"ga(\\'send\\'-\\'event\\'-\\'Member Popular Services\\'-\\'Popular Services Click\\'-\\'Make Voluntary Contributions\\')\"\" href=\"\"https://www.cpf.gov.sg/eSvc/Web/Miscellaneous/Cashier/ECashierHomepage\"\" target=\"\"_self\"\">Make Voluntary Contributions</a>\",Element has insufficient color contrast of 4.4 (foreground color: #4f8208- background color: #f9f9f9- font size: 12.0pt- font weight: bold). Expected contrast ratio of 4.5:1,\"#card_container > .glider-contain.glider-wrap > .glider.draggable > .glider-track > .left-7 > .caption > a[href$=\"\"ECashierHomepage\"\"]\",6.0,1.4.3 Contrast (Minimum) (Level AA)\\n98,https://www.cpf.gov.sg/members,color-contrast,serious,https://dequeuniversity.com/rules/axe/2.6/color-contrast?application=webdriverjs,\"<a onclick=\"\"ga(\\'send\\'-\\'event\\'-\\'Member Popular Services\\'-\\'Popular Services Click\\'-\\'Make Retirement Top-Ups\\')\"\" href=\"\"https://www.cpf.gov.sg/eSvc/Web/Miscellaneous/Cashier/ECashierHomepage\"\" target=\"\"_self\"\">Make Retirement Top-Ups</a>\",Element has insufficient color contrast of 4.4 (foreground color: #4f8208- background color: #f9f9f9- font size: 12.0pt- font weight: bold). Expected contrast ratio of 4.5:1,\"#card_container > .glider-contain.glider-wrap > .glider.draggable > .glider-track > .left-6 > .caption > a[href$=\"\"ECashierHomepage\"\"]\",6.0,1.4.3 Contrast (Minimum) (Level AA)\\n99,https://www.cpf.gov.sg/members,color-contrast,serious,https://dequeuniversity.com/rules/axe/2.6/color-contrast?application=webdriverjs,\"<a onclick=\"\"ga(\\'send\\'-\\'event\\'-\\'Member Popular Services\\'-\\'Popular Services Click\\'-\\'Calculate CPF Contributions\\')\"\" href=\"\"https://www.cpf.gov.sg/eSvc/Web/Miscellaneous/ContributionCalculator/Index?isFirstAndSecondYear=0&amp;isMember=1\"\" target=\"\"_self\"\">Calculate CPF Contributions</a>\",Element has insufficient color contrast of 4.4 (foreground color: #4f8208- background color: #f9f9f9- font size: 12.0pt- font weight: bold). Expected contrast ratio of 4.5:1,#card_container > .glider-contain.glider-wrap > .glider.draggable > .glider-track > .left-5 > .caption > a,6.0,1.4.3 Contrast (Minimum) (Level AA)\\n100,https://www.cpf.gov.sg/members,color-contrast,serious,https://dequeuniversity.com/rules/axe/2.6/color-contrast?application=webdriverjs,\"<a onclick=\"\"ga(\\'send\\'-\\'event\\'-\\'Member Popular Services\\'-\\'Popular Services Click\\'-\\'Calculate CPF LIFE Payouts\\')\"\" href=\"\"https://www.cpf.gov.sg/eSvc/Web/Schemes/LifeEstimator/LifeEstimator\"\" target=\"\"_self\"\">Calculate CPF LIFE Payouts</a>\",Element has insufficient color contrast of 4.4 (foreground color: #4f8208- background color: #f9f9f9- font size: 12.0pt- font weight: bold). Expected contrast ratio of 4.5:1,\".caption > a[href$=\"\"LifeEstimator\"\"]\",6.0,1.4.3 Contrast (Minimum) (Level AA)\\n101,https://www.cpf.gov.sg/members,duplicate-id,moderate,https://dequeuniversity.com/rules/axe/2.6/duplicate-id?application=webdriverjs,\"<div class=\"\"ms-srch-dataProvider\"\" id=\"\"DataProvider\"\" name=\"\"Control\"\"></div>\",Document has multiple elements with the same id attribute: DataProvider,#ctl00_ctl87_g_32e23222_9cdf_4318_9dd2_33760a7e30d8_ctl00_csr > div.ms-srch-dataProvider,1.0,4.1.1 Parsing (Level A)\\n102,https://www.cpf.gov.sg/members,image-alt,critical,https://dequeuniversity.com/rules/axe/2.6/image-alt?application=webdriverjs,\"<img border=\"\"0\"\" src=\"\"/Assets/common/PublishingImages/Cards/Quicklinks_Statements_icon.png\"\">\",\"Element does not have an alt attribute--aria-label attribute does not exist or is empty--aria-labelledby attribute does not exist- references elements that do not exist or references elements that are empty or not visible--Element has no title attribute or the title attribute is empty--Element\\'s default semantics were not overridden with role=\"\"presentation\"\"--Element\\'s default semantics were not overridden with role=\"\"none\"\"\",.left-9 > img,8.0,1.1.1 Non-text Content (Level A)\\n103,https://www.cpf.gov.sg/members,image-alt,critical,https://dequeuniversity.com/rules/axe/2.6/image-alt?application=webdriverjs,\"<img border=\"\"0\"\" src=\"\"/Assets/common/PublishingImages/Cards/Quicklinks_Statements_icon.png\"\">\",\"Element does not have an alt attribute--aria-label attribute does not exist or is empty--aria-labelledby attribute does not exist- references elements that do not exist or references elements that are empty or not visible--Element has no title attribute or the title attribute is empty--Element\\'s default semantics were not overridden with role=\"\"presentation\"\"--Element\\'s default semantics were not overridden with role=\"\"none\"\"\",.left-8 > img,8.0,1.1.1 Non-text Content (Level A)\\n104,https://www.cpf.gov.sg/members,image-alt,critical,https://dequeuniversity.com/rules/axe/2.6/image-alt?application=webdriverjs,\"<img border=\"\"0\"\" src=\"\"/Assets/common/PublishingImages/Cards/Quicklinks_Forms_icon.png\"\">\",\"Element does not have an alt attribute--aria-label attribute does not exist or is empty--aria-labelledby attribute does not exist- references elements that do not exist or references elements that are empty or not visible--Element has no title attribute or the title attribute is empty--Element\\'s default semantics were not overridden with role=\"\"presentation\"\"--Element\\'s default semantics were not overridden with role=\"\"none\"\"\",\".left-7 > img[src$=\"\"Quicklinks_Forms_icon.png\"\"]\",8.0,1.1.1 Non-text Content (Level A)\\n105,https://www.cpf.gov.sg/members,image-alt,critical,https://dequeuniversity.com/rules/axe/2.6/image-alt?application=webdriverjs,\"<img border=\"\"0\"\" src=\"\"/Assets/common/PublishingImages/Cards/Quicklinks_Forms_icon.png\"\">\",\"Element does not have an alt attribute--aria-label attribute does not exist or is empty--aria-labelledby attribute does not exist- references elements that do not exist or references elements that are empty or not visible--Element has no title attribute or the title attribute is empty--Element\\'s default semantics were not overridden with role=\"\"presentation\"\"--Element\\'s default semantics were not overridden with role=\"\"none\"\"\",\".left-6 > img[src$=\"\"Quicklinks_Forms_icon.png\"\"]\",8.0,1.1.1 Non-text Content (Level A)\\n106,https://www.cpf.gov.sg/members,image-alt,critical,https://dequeuniversity.com/rules/axe/2.6/image-alt?application=webdriverjs,\"<img border=\"\"0\"\" src=\"\"/Assets/common/PublishingImages/Cards/Quicklinks_Calculators_icon.png\"\">\",\"Element does not have an alt attribute--aria-label attribute does not exist or is empty--aria-labelledby attribute does not exist- references elements that do not exist or references elements that are empty or not visible--Element has no title attribute or the title attribute is empty--Element\\'s default semantics were not overridden with role=\"\"presentation\"\"--Element\\'s default semantics were not overridden with role=\"\"none\"\"\",.left-5 > img,8.0,1.1.1 Non-text Content (Level A)\\n107,https://www.cpf.gov.sg/members,image-alt,critical,https://dequeuniversity.com/rules/axe/2.6/image-alt?application=webdriverjs,\"<img border=\"\"0\"\" src=\"\"/Assets/common/PublishingImages/Cards/Quicklinks_Calculators_icon.png\"\">\",\"Element does not have an alt attribute--aria-label attribute does not exist or is empty--aria-labelledby attribute does not exist- references elements that do not exist or references elements that are empty or not visible--Element has no title attribute or the title attribute is empty--Element\\'s default semantics were not overridden with role=\"\"presentation\"\"--Element\\'s default semantics were not overridden with role=\"\"none\"\"\",.left-4 > img,8.0,1.1.1 Non-text Content (Level A)\\n108,https://www.cpf.gov.sg/members,label,critical,https://dequeuniversity.com/rules/axe/2.6/label?application=webdriverjs,\"<textarea name=\"\"chat_input\"\" maxlength=\"\"170\"\" class=\"\"chat_textarea\"\" id=\"\"chat_input\"\" placeholder=\"\"Type your question ...\"\"></textarea>\",aria-label attribute does not exist or is empty--aria-labelledby attribute does not exist- references elements that do not exist or references elements that are empty or not visible--Form element does not have an implicit (wrapped) <label>--Form element does not have an explicit <label>--Element has no title attribute or the title attribute is empty,#chat_input,20.0,1.1.1 Non-text Content (Level A)\\n109,https://www.cpf.gov.sg/members,label,critical,https://dequeuniversity.com/rules/axe/2.6/label?application=webdriverjs,\"<textarea name=\"\"chat_input\"\" maxlength=\"\"170\"\" class=\"\"chat_textarea\"\" id=\"\"chat_input\"\" placeholder=\"\"Type your question ...\"\"></textarea>\",aria-label attribute does not exist or is empty--aria-labelledby attribute does not exist- references elements that do not exist or references elements that are empty or not visible--Form element does not have an implicit (wrapped) <label>--Form element does not have an explicit <label>--Element has no title attribute or the title attribute is empty,#chat_input,20.0,3.3.2 Labels or Instructions (Level A)\\n110,https://www.cpf.gov.sg/members,landmark-one-main,moderate,https://dequeuniversity.com/rules/axe/2.6/landmark-one-main?application=webdriverjs,\"<html dir=\"\"ltr\"\" lang=\"\"en-SG\"\" style=\"\"\"\" class=\"\"cpf-js cpf-flexbox cpf-canvas cpf-canvastext cpf-no-touch cpf-postmessage cpf-indexeddb cpf-hashchange cpf-history cpf-rgba cpf-hsla cpf-multiplebgs cpf-backgroundsize cpf-borderimage cpf-borderradius cpf-boxshadow cpf-textshadow cpf-opacity cpf-cssanimations cpf-csscolumns cpf-cssgradients cpf-cssreflections cpf-csstransforms cpf-csstransforms3d cpf-csstransitions cpf-fontface cpf-generatedcontent cpf-video cpf-audio cpf-localstorage cpf-sessionstorage cpf-applicationcache cpf-svg cpf-inlinesvg cpf-smil cpf-svgclippaths k-webkit k-webkit79 wf-librefranklin-n4-inactive wf-inactive hydrated\"\">\",,html,2.0,\\n111,https://www.cpf.gov.sg/members,link-name,serious,https://dequeuniversity.com/rules/axe/2.6/link-name?application=webdriverjs,\"<a href=\"\"/Members/Schemes/schemes/other-matters/cpf-nomination-scheme\"\" target=\"\"_blank\"\"><img src=\"\"/Assets/common/PublishingImages/HeroImage/Nomination_HeroImage_Text_girl.png\"\" alt=\"\"\"\" style=\"\"margin:5px;\"\"></a>\",\"Element does not have text that is visible to screen readers--aria-label attribute does not exist or is empty--aria-labelledby attribute does not exist- references elements that do not exist or references elements that are empty or not visible--Element\\'s default semantics were not overridden with role=\"\"presentation\"\"--Element\\'s default semantics were not overridden with role=\"\"none\"\"\",\"#imageRotator > [role=\"\"listbox\"\"] > div:nth-child(1) > .caption-container > .rightbox > .carousel-caption1 > .heading > p > a[href$=\"\"cpf-nomination-scheme\"\"]\",10.0,\"2.4.4 Link Purpose (In Context) (Level A),\\n4.1.2 Name, Role, Value (Level A)\"\\n112,https://www.cpf.gov.sg/members,fake-rule,serious,There isn\\'t a help url for this!,\"<a id=\"\"linkTurnOnAcc\"\" href=\"\"#\"\" class=\"\"ms-TurnOnAcc\"\" onclick=\"\"SetIsAccessibilityFeatureEnabled(true);UpdateAccessibilityUI();document.getElementById(\\'linkTurnOffAcc\\').focus();return false;\"\">                Turn on more accessible mode            </a>\",Element has no Bok Choy,#linkTurnOnAcc,,\\n113,https://www.cpf.gov.sg/members,fake-rule,serious,There isn\\'t a help url for this!,\"<a id=\"\"linkTurnOffAnimation\"\" href=\"\"#\"\" class=\"\"ms-accessible ms-acc-button\"\" onclick=\"\"ToggleAnimationStatus();return false;\"\">                Turn off Animations            </a>\",Element has no Bok Choy,#linkTurnOffAnimation,,\\n114,https://www.cpf.gov.sg/members,fake-rule,serious,There isn\\'t a help url for this!,\"<a class=\"\"sgds-button is-text is-large no-padding-LR\"\" style=\"\"text-decoration: none\"\" id=\"\"search-activate\"\">                                        <span class=\"\"sgds-icon is-size-5 sgds-icon-search\"\">                                        </span>                                    </a>\",Element has no Bok Choy,#search-activate,,\\n115,https://www.cpf.gov.sg/members,fake-rule,serious,There isn\\'t a help url for this!,\"<a id=\"\"mainContent\"\" name=\"\"mainContent\"\" tabindex=\"\"-1\"\">                        </a>\",Element has no Bok Choy,#mainContent,,\\n116,https://www.cpf.gov.sg/members,fake-rule,serious,There isn\\'t a help url for this!,\"<a href=\"\"#\"\">Learn About CPF Nominations</a>\",Element has no Bok Choy,.selected > a,,\\n117,https://www.cpf.gov.sg/members,fake-rule,serious,There isn\\'t a help url for this!,\"<a href=\"\"#\"\">Grow your CPF savings</a>\",Element has no Bok Choy,#imageRotator > .nav > div:nth-child(2) > a,,\\n'"
      ]
     },
     "execution_count": 13,
>>>>>>> master
<<<<<<< HEAD
=======
>>>>>>> master
>>>>>>> e11be0808c1ae682ce9fde22d3e38c81725bb6a1
     "metadata": {},
     "output_type": "execute_result"
    }
   ],
   "source": [
<<<<<<< HEAD
<<<<<<< HEAD
=======
=======
<<<<<<< HEAD
>>>>>>> master
>>>>>>> e11be0808c1ae682ce9fde22d3e38c81725bb6a1
    "re.head()"
   ]
  },
  {
   "cell_type": "code",
   "execution_count": 36,
   "metadata": {},
   "outputs": [],
   "source": [
    "p=re.drop(re.index[0])\n"
   ]
  },
  {
   "cell_type": "code",
   "execution_count": 37,
   "metadata": {},
   "outputs": [
    {
     "data": {
      "text/html": [
       "<div>\n",
       "<style scoped>\n",
       "    .dataframe tbody tr th:only-of-type {\n",
       "        vertical-align: middle;\n",
       "    }\n",
       "\n",
       "    .dataframe tbody tr th {\n",
       "        vertical-align: top;\n",
       "    }\n",
       "\n",
       "    .dataframe thead th {\n",
       "        text-align: right;\n",
       "    }\n",
       "</style>\n",
       "<table border=\"1\" class=\"dataframe\">\n",
       "  <thead>\n",
       "    <tr style=\"text-align: right;\">\n",
       "      <th></th>\n",
       "      <th>Impact</th>\n",
       "    </tr>\n",
       "    <tr>\n",
       "      <th>Impact</th>\n",
       "      <th></th>\n",
       "    </tr>\n",
       "  </thead>\n",
       "  <tbody>\n",
       "    <tr>\n",
       "      <td>critical</td>\n",
       "      <td>17</td>\n",
       "    </tr>\n",
       "    <tr>\n",
       "      <td>moderate</td>\n",
       "      <td>6</td>\n",
       "    </tr>\n",
       "    <tr>\n",
       "      <td>serious</td>\n",
       "      <td>53</td>\n",
       "    </tr>\n",
       "  </tbody>\n",
       "</table>\n",
       "</div>"
      ],
      "text/plain": [
       "          Impact\n",
       "Impact          \n",
       "critical      17\n",
       "moderate       6\n",
       "serious       53"
      ]
     },
     "execution_count": 37,
     "metadata": {},
     "output_type": "execute_result"
    }
   ],
   "source": [
    "re2 = df.groupby('Impact')[['Impact']].count()\n",
    "re2.drop(re2.index[0])"
   ]
  },
  {
   "cell_type": "code",
   "execution_count": 38,
   "metadata": {},
   "outputs": [
    {
     "data": {
      "text/html": [
       "<div>\n",
       "<style scoped>\n",
       "    .dataframe tbody tr th:only-of-type {\n",
       "        vertical-align: middle;\n",
       "    }\n",
       "\n",
       "    .dataframe tbody tr th {\n",
       "        vertical-align: top;\n",
       "    }\n",
       "\n",
       "    .dataframe thead th {\n",
       "        text-align: right;\n",
       "    }\n",
       "</style>\n",
       "<table border=\"1\" class=\"dataframe\">\n",
       "  <thead>\n",
       "    <tr style=\"text-align: right;\">\n",
       "      <th></th>\n",
       "      <th>URL</th>\n",
       "    </tr>\n",
       "  </thead>\n",
       "  <tbody>\n",
       "    <tr>\n",
       "      <td>0</td>\n",
       "      <td>https://www.gov.sg/</td>\n",
       "    </tr>\n",
       "    <tr>\n",
       "      <td>26</td>\n",
       "      <td>https://www.isomer.gov.sg/</td>\n",
       "    </tr>\n",
       "    <tr>\n",
       "      <td>36</td>\n",
       "      <td>https://www.isomer.gov.sg/documentation/traini...</td>\n",
       "    </tr>\n",
       "    <tr>\n",
       "      <td>55</td>\n",
       "      <td>https://www.isomer.gov.sg/documentation/markdo...</td>\n",
       "    </tr>\n",
       "  </tbody>\n",
       "</table>\n",
       "</div>"
      ],
      "text/plain": [
       "                                                  URL\n",
       "0                                 https://www.gov.sg/\n",
       "26                         https://www.isomer.gov.sg/\n",
       "36  https://www.isomer.gov.sg/documentation/traini...\n",
       "55  https://www.isomer.gov.sg/documentation/markdo..."
      ]
     },
     "execution_count": 38,
     "metadata": {},
     "output_type": "execute_result"
    }
   ],
   "source": [
    "g=df.iloc[:,0]\n",
    "k=pd.DataFrame(g)\n",
    "l =k.drop_duplicates()\n",
    "h=l[l.URL!='URL']\n",
    "url=h[h.URL!='Failed to inject axe-core into one of the iframes!']\n",
    "url\n",
    "# url = k.drop(k.index[1])\n",
    "\n",
    "\n"
   ]
  },
  {
   "cell_type": "code",
   "execution_count": null,
   "metadata": {},
   "outputs": [],
   "source": []
  },
  {
   "cell_type": "code",
   "execution_count": 39,
   "metadata": {},
   "outputs": [
    {
     "data": {
      "text/plain": [
       "['https://www.gov.sg/',\n",
       " 'https://www.isomer.gov.sg/',\n",
       " 'https://www.isomer.gov.sg/documentation/training-materials/',\n",
       " 'https://www.isomer.gov.sg/documentation/markdown/markdown-usage/']"
      ]
     },
     "execution_count": 39,
     "metadata": {},
     "output_type": "execute_result"
    }
   ],
   "source": [
    "urllist = url[\"URL\"].tolist()\n",
    "urllist"
   ]
  },
  {
   "cell_type": "code",
   "execution_count": 61,
   "metadata": {},
   "outputs": [],
   "source": [
    "criticalno = []\n",
    "seriousno = []\n",
    "moderateno = []\n",
    "minorno = []"
   ]
  },
  {
   "cell_type": "code",
   "execution_count": 62,
   "metadata": {},
   "outputs": [],
   "source": [
    "for i in range(len(urllist)):\n",
    "    url = df[df.URL == urllist[i]]\n",
    "    criticalno.append(len(url[url['Impact'] == 'critical']))\n",
    "    seriousno.append(len(url[url['Impact'] == 'serious']))\n",
    "    moderateno.append(len(url[url['Impact'] == 'moderate']))\n",
    "    minorno.append(len(url[url['Impact'] == 'minor']))"
   ]
  },
  {
   "cell_type": "code",
   "execution_count": 63,
   "metadata": {},
   "outputs": [
    {
     "data": {
      "text/plain": [
       "[0, 7, 5, 5]"
      ]
     },
     "execution_count": 63,
     "metadata": {},
     "output_type": "execute_result"
    }
   ],
   "source": [
    "criticalno"
   ]
  },
  {
   "cell_type": "code",
   "execution_count": 67,
   "metadata": {},
   "outputs": [
    {
     "data": {
      "text/plain": [
       "{'url': ['https://www.gov.sg/',\n",
       "  'https://www.isomer.gov.sg/',\n",
       "  'https://www.isomer.gov.sg/documentation/training-materials/',\n",
       "  'https://www.isomer.gov.sg/documentation/markdown/markdown-usage/'],\n",
       " 'critical': [0, 7, 5, 5],\n",
       " 'serious': [22, 1, 12, 18],\n",
       " 'moderate': [3, 1, 1, 1],\n",
       " 'minor': [0, 0, 0, 0]}"
      ]
     },
     "execution_count": 67,
     "metadata": {},
     "output_type": "execute_result"
    }
   ],
   "source": [
    "dict = {}\n",
    "dict[\"url\"]=urllist\n",
    "dict[\"critical\"]=criticalno\n",
    "dict[\"serious\"]=seriousno\n",
    "dict[\"moderate\"]=moderateno\n",
    "dict[\"minor\"]=minorno\n",
    "dict"
   ]
  },
  {
   "cell_type": "code",
   "execution_count": 43,
   "metadata": {},
   "outputs": [],
   "source": [
    "l=df.iloc[:,2]\n",
    "p=l.drop_duplicates()\n",
    "impct = p.drop(p.index[-1])\n"
   ]
  },
  {
   "cell_type": "code",
   "execution_count": 44,
   "metadata": {},
   "outputs": [
    {
     "data": {
      "text/plain": [
       "serious     22\n",
       "moderate     3\n",
       "Name: Impact, dtype: int64"
      ]
     },
     "execution_count": 44,
     "metadata": {},
     "output_type": "execute_result"
    }
   ],
   "source": [
    "cpf1=df.iloc[0:25,2].value_counts()\n",
    "cpf1\n",
    "# cpf1.drop(cpf1.index[])"
   ]
  },
  {
   "cell_type": "code",
   "execution_count": 45,
   "metadata": {},
   "outputs": [
    {
     "data": {
      "text/plain": [
       "critical    12\n",
       "serious     10\n",
       "moderate     2\n",
       "Impact       1\n",
       "Name: Impact, dtype: int64"
      ]
     },
     "execution_count": 45,
     "metadata": {},
     "output_type": "execute_result"
    }
   ],
   "source": [
    "cpf2=df.iloc[26:51,2].value_counts()\n",
    "cpf2\n",
    "# cpf2.drop(cpf2.index[-1])"
   ]
  },
  {
   "cell_type": "code",
   "execution_count": 46,
   "metadata": {},
   "outputs": [
    {
     "data": {
      "text/plain": [
       "serious     19\n",
       "critical     5\n",
       "moderate     1\n",
       "Impact       1\n",
       "Name: Impact, dtype: int64"
      ]
     },
     "execution_count": 46,
     "metadata": {},
     "output_type": "execute_result"
    }
   ],
   "source": [
    "cpf3=df.iloc[51:77,2].value_counts()\n",
    "cpf3\n",
    "# cpf3.drop(cpf3.index[-1])"
   ]
  },
  {
   "cell_type": "code",
   "execution_count": 47,
   "metadata": {},
   "outputs": [
    {
     "data": {
      "text/plain": [
       "serious    2\n",
       "Name: Impact, dtype: int64"
      ]
     },
     "execution_count": 47,
     "metadata": {},
     "output_type": "execute_result"
    }
   ],
   "source": [
    "cpf4=df.iloc[77:91,2].value_counts()\n",
    "cpf4\n",
    "# cpf4.drop(cpf4.index[1])"
   ]
  },
  {
   "cell_type": "code",
   "execution_count": 48,
   "metadata": {},
   "outputs": [],
   "source": [
    "data = {'urllist': urllist,\n",
    "       'critical':[11,0,11,0],\n",
    "       'serious':[12,21,12,12],\n",
    "       'moderate':[2,3,2,1]}"
   ]
  },
  {
   "cell_type": "code",
   "execution_count": 49,
   "metadata": {},
   "outputs": [],
   "source": [
    "\n",
    "impact = [\"Critical\", \"Serious\", \"Moderate\"]\n",
    "colors = [\"#c9d9d3\", \"#718dbf\", \"#e84d60\"]"
   ]
  },
  {
   "cell_type": "code",
   "execution_count": 50,
   "metadata": {},
   "outputs": [],
   "source": [
    "p = figure(x_range=urllist, plot_height=250, title=\"Violation Count\",\n",
    "           toolbar_location=None, tools=\"\")\n",
    "p.vbar_stack(impact, x='urllist', width=0.9, color=colors, source=data,\n",
    "             legend_label=impact)\n",
    "\n",
    "p.y_range.start = 0\n",
    "p.x_range.range_padding = 0.1\n",
    "p.xgrid.grid_line_color = None\n",
    "p.axis.minor_tick_line_color = None\n",
    "p.outline_line_color = None\n",
    "p.legend.location = \"top_left\"\n",
    "p.legend.orientation = \"horizontal\"\n",
    "p.xaxis.axis_label_text_font_size = \"1pt\"\n",
    "p.yaxis.axis_label_text_font_size = \"20pt\""
   ]
  },
  {
   "cell_type": "code",
   "execution_count": null,
   "metadata": {},
   "outputs": [],
   "source": []
  },
  {
   "cell_type": "code",
   "execution_count": 51,
   "metadata": {},
   "outputs": [
    {
     "name": "stdout",
     "output_type": "stream",
     "text": [
      "['https://www.gov.sg/', 'https://www.isomer.gov.sg/', 'https://www.isomer.gov.sg/documentation/training-materials/', 'https://www.isomer.gov.sg/documentation/markdown/markdown-usage/']\n"
     ]
    }
   ],
   "source": [
    "import pandas as pd\n",
    "from bokeh.plotting import figure, show\n",
    "from bokeh.io import show, output_notebook, output_file\n",
    "\n",
    "\n",
    "data = pd.read_csv('jug.csv')\n",
    "score = pd.read_csv('score.csv')\n",
    "\n",
    "\n",
    "result = pd.merge(data,\n",
    "                  score[['Volation Type','Govtech Priority','WCAG Mapping']],\n",
    "                  on='Volation Type',\n",
    "                  how='left')\n",
    "df = pd.DataFrame(result)\n",
    "df.to_csv('new.csv')\n",
    "\n",
    "g=df.iloc[:,0]\n",
    "k=pd.DataFrame(g)\n",
    "l =k.drop_duplicates()\n",
    "h=l[l.URL!='URL']\n",
    "url = h[h.URL!='Failed to inject axe-core into one of the iframes!']\n",
    "urls = url[\"URL\"].tolist()\n",
    "print(urls)\n",
    "\n",
    "impact = [\"Critical\", \"Serious\", \"Moderate\"]\n",
    "\n",
    "data = {'urls': urls,\n",
    "       'Critical':[11,0,11,0],\n",
    "       'Serious':[12,21,12,12],\n",
    "       'Moderate':[2,3,2,1]}\n",
    "\n",
    "colors = [\"#c9d9d3\", \"#718dbf\", \"#e84d60\"]\n",
    "\n",
    "output_file('output_file_test.html',\n",
    "            title='Report Summary Visualisation')\n",
    "\n",
    "p = figure(x_range=urls, plot_height=250, title=\"Violation Count\",\n",
    "           toolbar_location=None, tools=\"\")\n",
    "p.vbar_stack(impact, x='urls', width=0.9, color=colors, source=data)\n",
    "\n",
    "\n",
    "p.y_range.start = 0\n",
    "p.x_range.range_padding = 0.1\n",
    "p.xaxis.axis_label_text_font_size = '100pt'\n",
    "p.xgrid.grid_line_color = None\n",
    "p.axis.minor_tick_line_color = None\n",
    "p.outline_line_color = None\n",
    "p.legend.location = \"top_left\"\n",
    "p.legend.orientation = \"horizontal\"\n",
    "\n",
    "# See what it looks like\n",
    "show(p)\n"
   ]
  },
  {
   "cell_type": "code",
   "execution_count": 53,
   "metadata": {},
   "outputs": [],
   "source": [
    "# combine = pn.Column(p,p)"
<<<<<<< HEAD
=======
    "result.to_csv('new.csv')"
>>>>>>> master
=======
<<<<<<< HEAD
=======
=======
    "result.to_csv('new.csv')"
>>>>>>> master
>>>>>>> master
>>>>>>> e11be0808c1ae682ce9fde22d3e38c81725bb6a1
   ]
  },
  {
   "cell_type": "code",
   "execution_count": null,
   "metadata": {},
   "outputs": [],
   "source": []
<<<<<<< HEAD
<<<<<<< HEAD
=======
=======
<<<<<<< HEAD
>>>>>>> master
>>>>>>> e11be0808c1ae682ce9fde22d3e38c81725bb6a1
  },
  {
   "cell_type": "code",
   "execution_count": null,
   "metadata": {},
   "outputs": [],
   "source": []
<<<<<<< HEAD
=======
>>>>>>> master
=======
<<<<<<< HEAD
=======
=======
>>>>>>> master
>>>>>>> master
>>>>>>> e11be0808c1ae682ce9fde22d3e38c81725bb6a1
  }
 ],
 "metadata": {
  "kernelspec": {
   "display_name": "Python 3",
   "language": "python",
   "name": "python3"
<<<<<<< HEAD
=======
<<<<<<< HEAD
=======
<<<<<<< HEAD
=======
>>>>>>> e11be0808c1ae682ce9fde22d3e38c81725bb6a1
  },
  "language_info": {
   "codemirror_mode": {
    "name": "ipython",
    "version": 3
   },
   "file_extension": ".py",
   "mimetype": "text/x-python",
   "name": "python",
   "nbconvert_exporter": "python",
   "pygments_lexer": "ipython3",
   "version": "3.7.4"
>>>>>>> master
<<<<<<< HEAD
=======
>>>>>>> master
>>>>>>> e11be0808c1ae682ce9fde22d3e38c81725bb6a1
  }
 },
 "nbformat": 4,
 "nbformat_minor": 2
}
